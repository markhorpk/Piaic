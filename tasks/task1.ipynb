{
 "cells": [
  {
   "cell_type": "code",
   "execution_count": 1,
   "metadata": {},
   "outputs": [],
   "source": [
    "#task 1\n",
    "## 1. Take a key-value pair from the user and store it in separate variables.\n",
    "#2. Declare a dictionary and initialize it to an empty dictionary.\n",
    "#3. Use the update() function to add the key-value pair to the dictionary.\n",
    "#4. Print the final dictionary.\n",
    "#5. Exit."
   ]
  },
  {
   "cell_type": "code",
   "execution_count": null,
   "metadata": {},
   "outputs": [],
   "source": [
    "key = [(input(\"enter key for Dict\"))]\n",
    "value = input(\"Enter Value For Dict\")\n",
    "d = {}\n",
    "d.update(d.fromkeys(key,value))\n",
    "print(d)"
   ]
  },
  {
   "cell_type": "code",
   "execution_count": null,
   "metadata": {},
   "outputs": [],
   "source": [
    "# Task 2\n",
    "# Python Program to Concatenate Two Dictionaries Into One\n",
    "Problem Solution\n",
    "1. Declare and initialize two dictionaries with some key-value pairs\n",
    "2. Use the update() function to add the key-value pair from the second dictionary to the first dictionary.\n",
    "3. Print the final dictionary.\n",
    "4. Exit.\n",
    "Runtime Test Cases\n",
    "Case 1:\n",
    "Concatenated dictionary is:\n",
    "{'A': 1, 'C': 3, 'B': 2}"
   ]
  },
  {
   "cell_type": "code",
   "execution_count": null,
   "metadata": {},
   "outputs": [],
   "source": [
    " d1 = {\"A\":2,\"B\":3,\"C\":2,\"d\":3}\n",
    "d2 = {\"A\":1,\"B\":2,\"C\":3,\"F\":8}\n",
    "d1.update(d2)\n",
    "print(d1)"
   ]
  },
  {
   "cell_type": "code",
   "execution_count": null,
   "metadata": {},
   "outputs": [],
   "source": [
    "#Task 3\n",
    "#Python Program to Check if a Given Key Exists in a Dictionary or Not\n",
    "Problem Solution\n",
    "1. Declare and initialize a dictionary to have some key-value pairs.\n",
    "2. Take a key from the user and store it in a variable.\n",
    "3. Using an if statement and the in operator, check if the key is present in the dictionary using the\n",
    "dictionary.keys() method.\n",
    "4. If it is present, print the value of the key.\n",
    "5. If it isn’t present, display that the key isn’t present in the dictionary.\n",
    "6. Exit."
   ]
  },
  {
   "cell_type": "code",
   "execution_count": null,
   "metadata": {},
   "outputs": [],
   "source": [
    "d1 = {\"A\":2,\"B\":3,\"C\":2,\"d\":3,\"22\":\"Z\"}  # ?? 22 if integr   is presnt but it said not present in dict\n",
    "user_key = input(\"enter key to find\")\n",
    "#d1.get(user_key,\"Not Found\")\n",
    "if  user_key in d1.keys():\n",
    "    print(f\"key {user_key} found its value is {d1.get(user_key)}\")\n",
    "else:\n",
    "    print(\"Key Not Present\")\n"
   ]
  },
  {
   "cell_type": "code",
   "execution_count": null,
   "metadata": {},
   "outputs": [],
   "source": [
    "#Task 4\n",
    "#Python Program to Generate a Dictionary that Contains Numbers (between 1 and n) in the Form (x,x*x).\n",
    "Problem Solution\n",
    "1. Take a number from the user and store it in a separate variable.\n",
    "2. Declare a dictionary and using dictionary comprehension initialize it to values keeping the number\n",
    "between 1 to n as the key and the square of the number as their values.\n",
    "3. Print the final dictionary.\n",
    "4. Exit."
   ]
  },
  {
   "cell_type": "code",
   "execution_count": 12,
   "metadata": {
    "scrolled": true
   },
   "outputs": [
    {
     "name": "stdout",
     "output_type": "stream",
     "text": [
      "enter number5\n"
     ]
    },
    {
     "data": {
      "text/plain": [
       "{1: 1, 2: 4, 3: 9, 4: 16, 5: 25}"
      ]
     },
     "execution_count": 12,
     "metadata": {},
     "output_type": "execute_result"
    }
   ],
   "source": [
    "number = int(input(\"enter number\"))\n",
    "lis = []\n",
    "lis2 = []\n",
    "d = {}\n",
    "for i in range(1,number+1):\n",
    "    lis.append(i)\n",
    "    lis2.append(i*i)\n",
    "dict(zip(lis,lis2))\n"
   ]
  },
  {
   "cell_type": "code",
   "execution_count": null,
   "metadata": {},
   "outputs": [],
   "source": []
  },
  {
   "cell_type": "code",
   "execution_count": null,
   "metadata": {},
   "outputs": [],
   "source": [
    "#Task 5\n",
    "#Python Program to Sum All the Items in a Dictionary\n",
    "Problem Solution\n",
    "1. Declare and initialize a dictionary to have some key-value pairs.\n",
    "2. Find the sum of all the values in the dictionary.\n",
    "3. Print the total sum.\n",
    "4. Exit."
   ]
  },
  {
   "cell_type": "code",
   "execution_count": null,
   "metadata": {},
   "outputs": [],
   "source": [
    "d1 = {\"A\":1,\"B\":2,\"C\":3}\n",
    "sum =0\n",
    "for i in d1.values():\n",
    "    sum = sum +i\n",
    "print(sum)"
   ]
  },
  {
   "cell_type": "code",
   "execution_count": null,
   "metadata": {},
   "outputs": [],
   "source": [
    "Task 6\n",
    "Python Program to Multiply All the Items in a Dictionary\n",
    "Problem Solution\n",
    "1. Declare and initialize a dictionary to have some key-value pairs.\n",
    "2. Initialize a variable that should contain the total multiplied value to 1.\n",
    "3. Use the for loop to traverse through the values of the dictionary.\n",
    "4. Then multiply all the values in the dictionary against each other.\n",
    "5. Print the total multiplied value.\n",
    "6. Exit."
   ]
  },
  {
   "cell_type": "code",
   "execution_count": null,
   "metadata": {},
   "outputs": [],
   "source": [
    "d1 = {\"A\":1,\"B\":6,\"C\":8}\n",
    "multi = 1\n",
    "for i in d1.values():\n",
    "    multi = multi*i\n",
    "print(multi)"
   ]
  },
  {
   "cell_type": "code",
   "execution_count": null,
   "metadata": {},
   "outputs": [],
   "source": [
    "# task 7\n",
    "#Python Program to Remove the Given Key from a Dictionary\n",
    "Problem Solution\n",
    "1. Declare and initialize a dictionary to have some key-value pairs.\n",
    "2. Take a key from the user and store it in a variable.\n",
    "3. Using an if statement and the in operator, check if the key is present in the dictionary.\n",
    "4. If it is present, delete the key-value pair.\n",
    "5. If it isn’t present, print that the key isn’t found and exit the program.\n",
    "6. Exit."
   ]
  },
  {
   "cell_type": "code",
   "execution_count": null,
   "metadata": {},
   "outputs": [],
   "source": [
    "d1 = {\"A\":1,\"B\":6,\"C\":8}\n",
    "user_key = input(\"enter key :\")\n",
    "if user_key in d1.keys():\n",
    "    d1.pop(user_key)\n",
    "    print(d1)\n",
    "else:\n",
    "    print(\"Key Not Present in Dictionary\")\n",
    "       "
   ]
  },
  {
   "cell_type": "code",
   "execution_count": null,
   "metadata": {},
   "outputs": [],
   "source": [
    "# Task 8\n",
    "#Python Program to Map Two Lists into a Dictionary\n",
    "Problem Solution\n",
    "1. Declare two empty lists and initialize them to an empty list.\n",
    "3. Consider a for loop to accept values for the two lists.\n",
    "4. Take the number of elements in the list and store it in a variable.\n",
    "5. Accept the values into the list using another for loop and insert into the list.\n",
    "6. Repeat 4 and 5 for the values list also.\n",
    "7. Zip the two lists and use dict() to convert it into a dictionary.\n",
    "8. Print the dictionary.\n",
    "9. Exit"
   ]
  },
  {
   "cell_type": "code",
   "execution_count": null,
   "metadata": {},
   "outputs": [],
   "source": [
    "l1 = []\n",
    "l2 = []\n",
    "ele = int(input(\"Enter Elements of List :\"))\n",
    "for i in range(1,ele+1):\n",
    "    l1.append(input(\"Enter Values for List maybe be keys :\"))\n",
    "    l2.append(input(\"Enter Values for list may be dict Values :\"))\n",
    "D = dict(zip(l1,l2))\n",
    "print(D)\n"
   ]
  },
  {
   "cell_type": "code",
   "execution_count": null,
   "metadata": {},
   "outputs": [],
   "source": [
    "#Task 9\n",
    "#Python Program to Count the Frequency of Words Appearing in a String Using a Dictionary\n",
    "Problem Solution\n",
    "1. Enter a string and store it in a variable.\n",
    "2. Declare a list variable and initialize it to an empty list.\n",
    "3. Split the string into words and store it in the list.\n",
    "4. Count the frequency of each word and store it in another list.\n",
    "5. Using the zip() function, merge the lists containing the words and the word counts into a dictionary.\n",
    "3. Print the final dictionary.\n",
    "4. Exit"
   ]
  },
  {
   "cell_type": "code",
   "execution_count": null,
   "metadata": {},
   "outputs": [],
   "source": [
    "s = input(\"Enter Words\").split()\n",
    "dword = []\n",
    "dword = s\n",
    "fword = []\n",
    "for i in dword:\n",
    "    fword.append(dword.count(i))\n",
    "d = dict(zip(dword,fword))\n",
    "print(d)"
   ]
  },
  {
   "cell_type": "code",
   "execution_count": null,
   "metadata": {},
   "outputs": [],
   "source": [
    "#task 10\n",
    "#Python Program to Create a Dictionary with Key as First Character and Value as Words Starting with that\n",
    "#Character\n",
    "Problem Solution\n",
    "1. Enter a string and store it in a variable.\n",
    "2. Declare an empty dictionary.\n",
    "3. Split the string into words and store it in a list.\n",
    "4. Using a for loop and if statement check if the word already present as a key in the dictionary.\n",
    "5. If it is not present, initialize the letter of the word as the key and the word as the value and append it\n",
    "to a sublist created in the list.\n",
    "6. If it is present, add the word as the value to the corresponding sublist.\n",
    "7. Print the final dictionary.\n",
    "8. Exit."
   ]
  },
  {
   "cell_type": "code",
   "execution_count": 13,
   "metadata": {},
   "outputs": [
    {
     "name": "stdout",
     "output_type": "stream",
     "text": [
      "enter String :hasi khan jaan khan uan\n",
      "no\n",
      "{'h': ['hasi'], 'k': ['khan', 'khan'], 'j': ['jaan'], 'u': ['uan']}\n"
     ]
    }
   ],
   "source": [
    "s = input(\"enter String :\").split()\n",
    "lis = []\n",
    "d = {}\n",
    "lis2 = []\n",
    "for i in s:\n",
    "    if d.get(i[0]):\n",
    "       d[i[0]].append(i)\n",
    "       print(\"no\")\n",
    "    else:\n",
    "        d.update({i[0]:[i]})\n",
    "print(d)"
   ]
  }
 ],
 "metadata": {
  "kernelspec": {
   "display_name": "Python 3",
   "language": "python",
   "name": "python3"
  },
  "language_info": {
   "codemirror_mode": {
    "name": "ipython",
    "version": 3
   },
   "file_extension": ".py",
   "mimetype": "text/x-python",
   "name": "python",
   "nbconvert_exporter": "python",
   "pygments_lexer": "ipython3",
   "version": "3.7.3"
  }
 },
 "nbformat": 4,
 "nbformat_minor": 2
}
