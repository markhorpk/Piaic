{
 "cells": [
  {
   "cell_type": "code",
   "execution_count": null,
   "metadata": {},
   "outputs": [],
   "source": [
    "person data\n",
    "name = input(\"Enter name :\")\n",
    "math = input(\"enter math marks\")\n",
    "English = input(\"enter English Marks :\")\n",
    "Science  = input(\"enter Science Marks :\")\n",
    "hobbies = list(input(\"Enter hobbies sperated by comma ,:\").split(\",\"))\n",
    "choice = input(\"enter x to exit or other key to conntinue :\")\n",
    "\n",
    "`  \n",
    "\n"
   ]
  },
  {
   "cell_type": "code",
   "execution_count": 15,
   "metadata": {},
   "outputs": [
    {
     "name": "stdout",
     "output_type": "stream",
     "text": [
      "enter marks79\n",
      "Grade C\n"
     ]
    }
   ],
   "source": [
    "marks = int(input(\"enter marks\"))\n",
    "if  marks>=90:\n",
    "    print(\"grade A\")\n",
    "elif marks >= 80  and marks<=90:\n",
    "    print(\"Grade B\")\n",
    "elif marks >= 70 and marks<80:\n",
    "    print(\"Grade C\")\n",
    "elif marks  >= 60 and marks<70:\n",
    "    print(\"Grade D\")\n",
    "else:\n",
    "    print(\"Grade E\")"
   ]
  },
  {
   "cell_type": "code",
   "execution_count": 3,
   "metadata": {},
   "outputs": [
    {
     "name": "stdout",
     "output_type": "stream",
     "text": [
      "enter time returned like 8Pm :15\n",
      "dvd scratched or not   type Y for yes y\n",
      "Enter day dvd barrow :sunday\n",
      "for how many days :7\n",
      "your cost is 23.26\n"
     ]
    }
   ],
   "source": [
    "cost = 1.59\n",
    "time = int(input(\"enter time returned like 8Pm :\"))\n",
    "sc = input(\"dvd scratched or not   type Y for yes \")\n",
    "day = input(\"Enter day dvd barrow :\")\n",
    "how_many_days = int(input(\"for how many days :\"))\n",
    "cost = how_many_days*costg\n",
    "if time > 8:\n",
    "    cost += cost\n",
    "    if sc == 'y' or \"Y\":\n",
    "        cost = cost + 1;\n",
    "elif day == \"sunday\":\n",
    "    cost = (cost*30)/100\n",
    "    if sc == \"y\":\n",
    "        cost = cost+2     \n",
    "elif day == \"thursday\":\n",
    "    cost = (cost*50)/100\n",
    "print(f\"your cost is {cost}\")\n",
    "  \n",
    "    \n",
    "    "
   ]
  },
  {
   "cell_type": "code",
   "execution_count": 8,
   "metadata": {},
   "outputs": [
    {
     "name": "stdout",
     "output_type": "stream",
     "text": [
      "Yuiiiiii..\n",
      "Yuiiiiii..\n",
      "Yuiiiiii..\n",
      "Yuiiiiii..\n",
      "Yuiiiiii..\n",
      "Yuiiiiii..\n",
      "Yuiiiiii..\n",
      "Yuiiiiii..\n",
      "Yuiiiiii..\n",
      "Yuiiiiii..\n",
      "Yuiiiiii..\n",
      "total liter = 10\n"
     ]
    }
   ],
   "source": [
    " sach = False\n",
    "counter = 0\n",
    "while(sach!=True):\n",
    "    if counter == 10:\n",
    "        sach = True\n",
    "    else:\n",
    "        counter +=1\n",
    "    print(\"Yuiiiiii..\")\n",
    "print(f\"total liter = {counter}\")"
   ]
  },
  {
   "cell_type": "code",
   "execution_count": 19,
   "metadata": {},
   "outputs": [
    {
     "data": {
      "text/plain": [
       "['hobbies', {'hobbies': ['A', 'b', 'c']}, {'hobbies': ['A', 'b', 'c']}]"
      ]
     },
     "execution_count": 19,
     "metadata": {},
     "output_type": "execute_result"
    }
   ],
   "source": [
    "l1 = [\"A\",\"b\",\"c\"]\n",
    "d2 = {}\n",
    "d2 [\"hobbies\"]=l1\n",
    "\n",
    "l2.append(d2)\n",
    "\n",
    "l2\n"
   ]
  },
  {
   "cell_type": "code",
   "execution_count": 27,
   "metadata": {},
   "outputs": [
    {
     "name": "stdout",
     "output_type": "stream",
     "text": [
      "('hobbies',)\n",
      "[('hobbies',)]\n"
     ]
    }
   ],
   "source": [
    "l1 = [\"A\",\"b\",\"c\"]\n",
    "d2 = {}\n",
    "d2 [\"hobbies\"]=l1\n",
    "t = ()\n",
    "t = tuple(d2)\n",
    "print(t)\n",
    "l2 =[]\n",
    "l2.append(t)\n",
    "print(l2)\n",
    "#list k andr tuple ho skta hai  but dict hai us k bahir ya tuple hota hai ya list only one at timr\n",
    "# agr dict ko tuple mein kryn wo just us ki key values leta hai "
   ]
  },
  {
   "cell_type": "code",
   "execution_count": 30,
   "metadata": {},
   "outputs": [
    {
     "data": {
      "text/plain": [
       "[('hobbies',),\n",
       " {'hobbies': ['A', 'b', 'c']},\n",
       " {'hobbies': ['A', 'b', 'c']},\n",
       " {'hobbies': ['A', 'b', 'c']}]"
      ]
     },
     "execution_count": 30,
     "metadata": {},
     "output_type": "execute_result"
    }
   ],
   "source": [
    "l1 = [\"A\",\"b\",\"c\"]\n",
    "d2 = {}\n",
    "d2 [\"hobbies\"]=l1\n",
    "\n",
    "l2.append(d2)\n",
    "\n",
    "l2\n"
   ]
  },
  {
   "cell_type": "code",
   "execution_count": 60,
   "metadata": {},
   "outputs": [
    {
     "name": "stdout",
     "output_type": "stream",
     "text": [
      "{'hobbies': ['A', 'b', 'c']}\n",
      "['A', 'b', 'c']\n"
     ]
    },
    {
     "data": {
      "text/plain": [
       "'A'"
      ]
     },
     "execution_count": 60,
     "metadata": {},
     "output_type": "execute_result"
    }
   ],
   "source": [
    "l1 = [\"A\",\"b\",\"c\"]\n",
    "d2 = {}\n",
    "d2 [\"hobbies\"]=l1\n",
    "l2 = []\n",
    "l2.append(d2)\n",
    "st = \"janu\"\n",
    "l2.append(st)\n",
    "print(l2[-2])\n",
    "print(l2[-2][\"hobbies\"])\n",
    "l2[-2][\"hobbies\"][0]\n",
    "## acces dict under list \n"
   ]
  },
  {
   "cell_type": "code",
   "execution_count": 86,
   "metadata": {},
   "outputs": [
    {
     "name": "stdout",
     "output_type": "stream",
     "text": [
      "{'x': 'lists', 'y': 'lists', 'z': 'lists'}\n",
      "{'a': 'tuples', 'b': 'tuples', 'c': 'tuples'}\n"
     ]
    }
   ],
   "source": [
    "l1 = [\"x\",\"y\",\"z\"]\n",
    "t = (\"a\",\"b\",\"c\")\n",
    "d = {}\n",
    "##list inside tuple\n",
    "##t[0]= \"b\" eeror\n",
    "#but we can modify list inside tuple\n",
    "print(d.fromkeys(l1,\"lists\"))\n",
    "print(d.fromkeys(t,\"tuples\"))\n",
    "##t = (\"a\",\"b\",\"c\",l1) cant use to covert in dict\n"
   ]
  },
  {
   "cell_type": "code",
   "execution_count": 98,
   "metadata": {},
   "outputs": [
    {
     "name": "stdout",
     "output_type": "stream",
     "text": [
      "['janu', 'khan', ('kali', 'jali'), {'hasnain': 2797, 'bisharat': 2745}]\n",
      "janu\n",
      "kali\n"
     ]
    },
    {
     "data": {
      "text/plain": [
       "2797"
      ]
     },
     "execution_count": 98,
     "metadata": {},
     "output_type": "execute_result"
    }
   ],
   "source": [
    "d1 = {\n",
    "    \"A\":1,\n",
    "    \"b\":2\n",
    "}\n",
    "d2 = {\n",
    "    \"hasnain\":2797,\n",
    "    \"bisharat\":2745\n",
    "}\n",
    "t = (\"kali\",\"jali\")\n",
    "l1 = [\"janu\",\"khan\",t,d2]\n",
    "\n",
    "d1 [\"list1\"]=l1\n",
    "print(d1[\"list1\"])\n",
    "print(d1[\"list1\"][0])\n",
    "print(d1[\"list1\"][2][0])\n",
    "d1[\"list1\"][3][\"hasnain\"]"
   ]
  },
  {
   "cell_type": "code",
   "execution_count": null,
   "metadata": {},
   "outputs": [],
   "source": []
  }
 ],
 "metadata": {
  "kernelspec": {
   "display_name": "Python 3",
   "language": "python",
   "name": "python3"
  },
  "language_info": {
   "codemirror_mode": {
    "name": "ipython",
    "version": 3
   },
   "file_extension": ".py",
   "mimetype": "text/x-python",
   "name": "python",
   "nbconvert_exporter": "python",
   "pygments_lexer": "ipython3",
   "version": "3.7.3"
  }
 },
 "nbformat": 4,
 "nbformat_minor": 2
}
