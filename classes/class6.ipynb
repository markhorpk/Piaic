{
 "cells": [
  {
   "cell_type": "code",
   "execution_count": 43,
   "metadata": {},
   "outputs": [
    {
     "name": "stdout",
     "output_type": "stream",
     "text": [
      "pre define function\n",
      "pree define function\n"
     ]
    }
   ],
   "source": [
    "print(\"pre define function\")\n",
    "print(\"pree define function\")\n"
   ]
  },
  {
   "cell_type": "code",
   "execution_count": 46,
   "metadata": {},
   "outputs": [
    {
     "name": "stdout",
     "output_type": "stream",
     "text": [
      "Pre defined function\n",
      "abcasd\n",
      "<class 'int'>\n",
      "2\n",
      "2473579976216\n"
     ]
    }
   ],
   "source": [
    "print(\"Pre defined function\")\n",
    "input(\"abc\")\n",
    "print(type(22))\n",
    "print(len(\"dh\"))\n",
    "print(id(\"df\"))"
   ]
  },
  {
   "cell_type": "markdown",
   "metadata": {},
   "source": [
    "# user defined function without parameters"
   ]
  },
  {
   "cell_type": "code",
   "execution_count": 49,
   "metadata": {},
   "outputs": [
    {
     "name": "stdout",
     "output_type": "stream",
     "text": [
      "Pakistan!\n",
      "Pakistan!\n",
      "Pakistan!\n",
      "Pakistan!\n"
     ]
    }
   ],
   "source": [
    "def abc(): # function declaration\n",
    "    # body function  # 4 sapces indent\n",
    "    print(\"Pakistan!\")\n",
    "    print(\"Pakistan!\")\n",
    "    #end body\n",
    "abc()\n",
    "abc()"
   ]
  },
  {
   "cell_type": "markdown",
   "metadata": {},
   "source": [
    "# user define function with parameters"
   ]
  },
  {
   "cell_type": "code",
   "execution_count": 54,
   "metadata": {},
   "outputs": [
    {
     "name": "stdout",
     "output_type": "stream",
     "text": [
      "\n",
      "    student ID : 1\n",
      "    Student Name : Muhammad Husnain\n",
      "    Student Father : Muhammad Ilyas\n",
      "    course : A.I\n",
      "    timing : 3:30 to 6:30\n",
      "    \n"
     ]
    }
   ],
   "source": [
    "def id_card(sid, sname, sfather, course, timing):\n",
    "    print(\n",
    "    f\"\"\"\n",
    "    student ID : {sid}\n",
    "    Student Name : {sname}\n",
    "    Student Father : {sfather}\n",
    "    course : {course}\n",
    "    timing : {timing}\n",
    "    \"\"\"\n",
    "    )\n",
    "id_card(1, \"Muhammad Husnain\", \"Muhammad Ilyas\", \"A.I\", \"3:30 to 6:30\")"
   ]
  },
  {
   "cell_type": "code",
   "execution_count": 62,
   "metadata": {},
   "outputs": [
    {
     "name": "stdout",
     "output_type": "stream",
     "text": [
      "\n",
      "    student ID : 1\n",
      "    Student Name : 1\n",
      "    Student Father : 1\n",
      "    course : 1\n",
      "    timing : 1\n",
      "    \n",
      "\n",
      "    student ID : 2\n",
      "    Student Name : 2\n",
      "    Student Father : 2\n",
      "    course : 2\n",
      "    timing : 2\n",
      "    \n",
      "\n",
      "    student ID : 3\n",
      "    Student Name : 3\n",
      "    Student Father : 3\n",
      "    course : 3\n",
      "    timing : 3\n",
      "    \n"
     ]
    }
   ],
   "source": [
    "data = [\n",
    "    [1, 1, 1, 1, 1],\n",
    "    [2, 2, 2, 2, 2],\n",
    "    [3, 3, 3, 3, 3],\n",
    "]\n",
    "for i in data:\n",
    "    id_card(*i)"
   ]
  },
  {
   "cell_type": "code",
   "execution_count": 68,
   "metadata": {},
   "outputs": [
    {
     "ename": "TypeError",
     "evalue": "abc() missing 1 required positional argument: 'z'",
     "output_type": "error",
     "traceback": [
      "\u001b[1;31m---------------------------------------------------------------------------\u001b[0m",
      "\u001b[1;31mTypeError\u001b[0m                                 Traceback (most recent call last)",
      "\u001b[1;32m<ipython-input-68-e9e38902f87a>\u001b[0m in \u001b[0;36m<module>\u001b[1;34m\u001b[0m\n\u001b[0;32m      2\u001b[0m     \u001b[0mprint\u001b[0m\u001b[1;33m(\u001b[0m\u001b[0mx\u001b[0m\u001b[1;33m,\u001b[0m\u001b[0my\u001b[0m\u001b[1;33m,\u001b[0m\u001b[0mz\u001b[0m\u001b[1;33m)\u001b[0m\u001b[1;33m\u001b[0m\u001b[1;33m\u001b[0m\u001b[0m\n\u001b[0;32m      3\u001b[0m     \u001b[0mprint\u001b[0m\u001b[1;33m(\u001b[0m\u001b[0mx\u001b[0m\u001b[1;33m+\u001b[0m\u001b[0my\u001b[0m\u001b[1;33m+\u001b[0m\u001b[0mz\u001b[0m\u001b[1;33m)\u001b[0m\u001b[1;33m\u001b[0m\u001b[1;33m\u001b[0m\u001b[0m\n\u001b[1;32m----> 4\u001b[1;33m \u001b[0mabc\u001b[0m\u001b[1;33m(\u001b[0m\u001b[1;36m1\u001b[0m\u001b[1;33m,\u001b[0m\u001b[1;36m2\u001b[0m\u001b[1;33m)\u001b[0m\u001b[1;33m\u001b[0m\u001b[1;33m\u001b[0m\u001b[0m\n\u001b[0m",
      "\u001b[1;31mTypeError\u001b[0m: abc() missing 1 required positional argument: 'z'"
     ]
    }
   ],
   "source": [
    "def abc(x,y,z):\n",
    "    print(x,y,z)\n",
    "    print(x+y+z)\n",
    "abc(1,2)"
   ]
  },
  {
   "cell_type": "markdown",
   "metadata": {},
   "source": [
    "# optional Argument or Default Arguments"
   ]
  },
  {
   "cell_type": "code",
   "execution_count": 78,
   "metadata": {},
   "outputs": [
    {
     "ename": "SyntaxError",
     "evalue": "non-default argument follows default argument (<ipython-input-78-a31294b370d8>, line 1)",
     "output_type": "error",
     "traceback": [
      "\u001b[1;36m  File \u001b[1;32m\"<ipython-input-78-a31294b370d8>\"\u001b[1;36m, line \u001b[1;32m1\u001b[0m\n\u001b[1;33m    def abc(x=0,z=0,y): # we assin parameter by 0 to make it default argument\u001b[0m\n\u001b[1;37m           ^\u001b[0m\n\u001b[1;31mSyntaxError\u001b[0m\u001b[1;31m:\u001b[0m non-default argument follows default argument\n"
     ]
    }
   ],
   "source": [
    "def abc(x=0,z=0,y): # we assin parameter by 0 to make it default argument\n",
    "    print(x, y, z)\n",
    "    print(x+y+z)\n",
    "abc(1)"
   ]
  },
  {
   "cell_type": "code",
   "execution_count": 80,
   "metadata": {},
   "outputs": [
    {
     "ename": "SyntaxError",
     "evalue": "non-default argument follows default argument (<ipython-input-80-6291f713e1ed>, line 1)",
     "output_type": "error",
     "traceback": [
      "\u001b[1;36m  File \u001b[1;32m\"<ipython-input-80-6291f713e1ed>\"\u001b[1;36m, line \u001b[1;32m1\u001b[0m\n\u001b[1;33m    def abc(x=0,y,z=0):\u001b[0m\n\u001b[1;37m           ^\u001b[0m\n\u001b[1;31mSyntaxError\u001b[0m\u001b[1;31m:\u001b[0m non-default argument follows default argument\n"
     ]
    }
   ],
   "source": [
    "def abc(x=0,y,z=0):\n",
    "    print(x, y, z)\n",
    "    print(x+y+z)\n",
    "abc(1)"
   ]
  },
  {
   "cell_type": "code",
   "execution_count": 85,
   "metadata": {},
   "outputs": [
    {
     "name": "stdout",
     "output_type": "stream",
     "text": [
      "1 0 0\n",
      "1\n"
     ]
    }
   ],
   "source": [
    "def abc(x,y=0, z=0): # we can only  use defalt paramer At end only not at  at first or  center\n",
    "    print(x, y, z)\n",
    "    print(x+y+z)\n",
    "abc(1)"
   ]
  },
  {
   "cell_type": "code",
   "execution_count": 87,
   "metadata": {},
   "outputs": [
    {
     "name": "stdout",
     "output_type": "stream",
     "text": [
      "1 0 0\n",
      "1\n"
     ]
    }
   ],
   "source": [
    "def abc(x=0,z=0,y=0):\n",
    "    print(x, y, z)\n",
    "    print(x+y+z)\n",
    "abc(1)"
   ]
  },
  {
   "cell_type": "markdown",
   "metadata": {},
   "source": [
    "# non return function"
   ]
  },
  {
   "cell_type": "code",
   "execution_count": 90,
   "metadata": {},
   "outputs": [
    {
     "name": "stdout",
     "output_type": "stream",
     "text": [
      "dsf\n",
      "None\n"
     ]
    }
   ],
   "source": [
    "a= print(\"dsf\") # aysa function jis value hum kesi veriable mein store kra skyn wo function return function kehlata hai\n",
    "print(a)"
   ]
  },
  {
   "cell_type": "markdown",
   "metadata": {},
   "source": [
    "# return function "
   ]
  },
  {
   "cell_type": "code",
   "execution_count": 97,
   "metadata": {},
   "outputs": [
    {
     "name": "stdout",
     "output_type": "stream",
     "text": [
      "8\n"
     ]
    }
   ],
   "source": [
    "def abc(x, y, z):\n",
    "    return x+y+z\n",
    "print(abc(1, 3, 4))\n"
   ]
  },
  {
   "cell_type": "code",
   "execution_count": 99,
   "metadata": {},
   "outputs": [
    {
     "name": "stdout",
     "output_type": "stream",
     "text": [
      "None\n"
     ]
    }
   ],
   "source": [
    "def id_card(sid, sname, fname, course, timing):\n",
    "    return\n",
    "    f\"\"\"\n",
    "    PIAIC Islamabad\n",
    "    Student id: {sid}\n",
    "    Student Name: {sname}\n",
    "    Father's Name: {fname}\n",
    "    Course: {course}\n",
    "    Timing: {timing}\n",
    "    \"\"\"\n",
    "print(id_card(1,\"Hasnain\", \"Alyas\", \"AI\", \"5 to 9\"))"
   ]
  },
  {
   "cell_type": "code",
   "execution_count": 101,
   "metadata": {},
   "outputs": [
    {
     "name": "stdout",
     "output_type": "stream",
     "text": [
      "   \n",
      "    PIAIC Islamabad\n",
      "    Student id: 1\n",
      "    Student Name: Hasnain\n",
      "    Father's Name: Alyas\n",
      "    Course: AI\n",
      "    Timing: 5 to 9\n",
      "    \n"
     ]
    }
   ],
   "source": [
    "def id_card(sid, sname, fname, course, timing):  # we have to write return statements in line  only\n",
    "    return   f\"\"\"   \n",
    "    PIAIC Islamabad\n",
    "    Student id: {sid}\n",
    "    Student Name: {sname}\n",
    "    Father's Name: {fname}\n",
    "    Course: {course}\n",
    "    Timing: {timing}\n",
    "    \"\"\"\n",
    "print(id_card(1,\"Hasnain\", \"Alyas\", \"AI\", \"5 to 9\"))"
   ]
  },
  {
   "cell_type": "code",
   "execution_count": 107,
   "metadata": {},
   "outputs": [
    {
     "data": {
      "text/plain": [
       "'Well'"
      ]
     },
     "execution_count": 107,
     "metadata": {},
     "output_type": "execute_result"
    }
   ],
   "source": [
    "def abc():\n",
    "    return \"Well\" # can execute only one statement in function \n",
    "    return \"come\"\n",
    "    print(\"hello\")\n",
    "abc()"
   ]
  },
  {
   "cell_type": "code",
   "execution_count": 112,
   "metadata": {},
   "outputs": [
    {
     "data": {
      "text/plain": [
       "'WeL COme Home'"
      ]
     },
     "execution_count": 112,
     "metadata": {},
     "output_type": "execute_result"
    }
   ],
   "source": [
    "def abc():\n",
    "    return \"WeL \" \"COme \" \"Home\"\n",
    "abc()"
   ]
  },
  {
   "cell_type": "markdown",
   "metadata": {},
   "source": [
    "# Positional Arguments "
   ]
  },
  {
   "cell_type": "code",
   "execution_count": 114,
   "metadata": {},
   "outputs": [
    {
     "name": "stdout",
     "output_type": "stream",
     "text": [
      "\n",
      "    PIAIC Islamabad\n",
      "    Student id: qasam\n",
      "    Student Name: 2\n",
      "    Father's Name: Alam\n",
      "    Course: ref\n",
      "    Timing: 4f\n",
      "    \n"
     ]
    }
   ],
   "source": [
    "\n",
    "def id_card(sid, sname, fname, course, timing):\n",
    "    print(f\"\"\"\n",
    "    PIAIC Islamabad\n",
    "    Student id: {sid}\n",
    "    Student Name: {sname}\n",
    "    Father's Name: {fname}\n",
    "    Course: {course}\n",
    "    Timing: {timing}\n",
    "    \"\"\")\n",
    "id_card(\"qasam\",2 ,\"Alam\", \"ref\", \"4f\")\n",
    "    ##postion matters"
   ]
  },
  {
   "cell_type": "markdown",
   "metadata": {},
   "source": [
    "# keyword Arguments"
   ]
  },
  {
   "cell_type": "code",
   "execution_count": 119,
   "metadata": {},
   "outputs": [
    {
     "name": "stdout",
     "output_type": "stream",
     "text": [
      "\n",
      "    PIAIC Islamabad\n",
      "    Student id: 1\n",
      "    Student Name: HAsnsin\n",
      "    Father's Name: Alyas\n",
      "    Course: A.I\n",
      "    Timing: 5 to 7\n",
      "    \n"
     ]
    }
   ],
   "source": [
    "\n",
    "def id_card(sid, sname, fname, course, timing):\n",
    "    print(f\"\"\"\n",
    "    PIAIC Islamabad\n",
    "    Student id: {sid}\n",
    "    Student Name: {sname}\n",
    "    Father's Name: {fname}\n",
    "    Course: {course}\n",
    "    Timing: {timing}\n",
    "    \"\"\")\n",
    "id_card(sname= \"HAsnsin\", fname= \"Alyas\", course= \"A.I\", sid= 1, timing = \"5 to 7\")"
   ]
  },
  {
   "cell_type": "markdown",
   "metadata": {},
   "source": [
    "# passing arguments with list"
   ]
  },
  {
   "cell_type": "code",
   "execution_count": 121,
   "metadata": {},
   "outputs": [
    {
     "name": "stdout",
     "output_type": "stream",
     "text": [
      "[1, 2, 3, 4, 5]\n"
     ]
    }
   ],
   "source": [
    "l1 = [1, 2, 3, 4, 5]\n",
    "print(l1)"
   ]
  },
  {
   "cell_type": "code",
   "execution_count": 123,
   "metadata": {},
   "outputs": [
    {
     "name": "stdout",
     "output_type": "stream",
     "text": [
      "1 2 3 4 5\n"
     ]
    }
   ],
   "source": [
    "print(l1[0], l1[1],l1[2],l1[3],l1[4])\n"
   ]
  },
  {
   "cell_type": "code",
   "execution_count": 129,
   "metadata": {},
   "outputs": [
    {
     "name": "stdout",
     "output_type": "stream",
     "text": [
      "1 2 3 4 5\n"
     ]
    }
   ],
   "source": [
    "l1 = [1, 2, 3, 4, 5]\n",
    "print(*l1)\n"
   ]
  },
  {
   "cell_type": "code",
   "execution_count": 132,
   "metadata": {},
   "outputs": [
    {
     "name": "stdout",
     "output_type": "stream",
     "text": [
      "\n",
      "    PIAIC Islamabad\n",
      "    Student id: 1\n",
      "    Student Name: name\n",
      "    Father's Name: fname\n",
      "    Course: 4\n",
      "    Timing: 5\n",
      "    \n"
     ]
    }
   ],
   "source": [
    "\n",
    "def id_card(sid, sname, fname, course, timing):\n",
    "    print(f\"\"\"\n",
    "    PIAIC Islamabad\n",
    "    Student id: {sid}\n",
    "    Student Name: {sname}\n",
    "    Father's Name: {fname}\n",
    "    Course: {course}\n",
    "    Timing: {timing}\n",
    "    \"\"\")\n",
    "l1 = [1, \"name\", \"fname\", 4, 5]\n",
    "id_card(*l1)  # positionall Arguments"
   ]
  },
  {
   "cell_type": "code",
   "execution_count": 146,
   "metadata": {},
   "outputs": [
    {
     "name": "stdout",
     "output_type": "stream",
     "text": [
      "1\n",
      "2\n",
      "(6, 7, 8, 9)\n"
     ]
    }
   ],
   "source": [
    "def abc (x,y,*numbers):\n",
    "    print(x)\n",
    "    print(y)\n",
    "    print(numbers) ## return tuple \n",
    "abc(1,2,6,7,8,9) # list pasing \n",
    "    "
   ]
  },
  {
   "cell_type": "code",
   "execution_count": 151,
   "metadata": {},
   "outputs": [
    {
     "name": "stdout",
     "output_type": "stream",
     "text": [
      "1\n",
      "2\n",
      "(1, 23, 4)\n"
     ]
    }
   ],
   "source": [
    "def abc (*numbers,x,y):\n",
    "    print(x)\n",
    "    print(y)\n",
    "    print(numbers) ## return tuple \n",
    "#abc(1,2,6,7,8,9) # list pasing \n",
    "abc(1,23,4, x= 1,y=2)"
   ]
  },
  {
   "cell_type": "code",
   "execution_count": 153,
   "metadata": {},
   "outputs": [
    {
     "ename": "SyntaxError",
     "evalue": "positional argument follows keyword argument (<ipython-input-153-5b2b8ffde8c4>, line 6)",
     "output_type": "error",
     "traceback": [
      "\u001b[1;36m  File \u001b[1;32m\"<ipython-input-153-5b2b8ffde8c4>\"\u001b[1;36m, line \u001b[1;32m6\u001b[0m\n\u001b[1;33m    abc(x= 1,1,3,4,y=2)\u001b[0m\n\u001b[1;37m            ^\u001b[0m\n\u001b[1;31mSyntaxError\u001b[0m\u001b[1;31m:\u001b[0m positional argument follows keyword argument\n"
     ]
    }
   ],
   "source": [
    "def abc (x,*numbers,y):\n",
    "    print(x)\n",
    "    print(y)\n",
    "    print(numbers) ## return tuple \n",
    "#abc(1,2,6,7,8,9) # list pasing \n",
    "abc(x= 1,1,3,4,y=2)"
   ]
  },
  {
   "cell_type": "code",
   "execution_count": 159,
   "metadata": {},
   "outputs": [
    {
     "ename": "TypeError",
     "evalue": "abc() got an unexpected keyword argument 'numbers'",
     "output_type": "error",
     "traceback": [
      "\u001b[1;31m---------------------------------------------------------------------------\u001b[0m",
      "\u001b[1;31mTypeError\u001b[0m                                 Traceback (most recent call last)",
      "\u001b[1;32m<ipython-input-159-bced0a68e76a>\u001b[0m in \u001b[0;36m<module>\u001b[1;34m\u001b[0m\n\u001b[0;32m      4\u001b[0m     \u001b[0mprint\u001b[0m\u001b[1;33m(\u001b[0m\u001b[0mnumbers\u001b[0m\u001b[1;33m)\u001b[0m \u001b[1;31m## return tuple\u001b[0m\u001b[1;33m\u001b[0m\u001b[1;33m\u001b[0m\u001b[0m\n\u001b[0;32m      5\u001b[0m \u001b[1;31m#abc(1,2,6,7,8,9) # list pasing\u001b[0m\u001b[1;33m\u001b[0m\u001b[1;33m\u001b[0m\u001b[1;33m\u001b[0m\u001b[0m\n\u001b[1;32m----> 6\u001b[1;33m \u001b[0mabc\u001b[0m\u001b[1;33m(\u001b[0m\u001b[0mx\u001b[0m\u001b[1;33m=\u001b[0m \u001b[1;36m1\u001b[0m\u001b[1;33m,\u001b[0m \u001b[0mnumbers\u001b[0m\u001b[1;33m=\u001b[0m\u001b[1;33m[\u001b[0m\u001b[1;36m1\u001b[0m\u001b[1;33m,\u001b[0m\u001b[1;36m3\u001b[0m\u001b[1;33m,\u001b[0m\u001b[1;36m4\u001b[0m\u001b[1;33m]\u001b[0m \u001b[1;33m,\u001b[0m\u001b[0my\u001b[0m\u001b[1;33m=\u001b[0m\u001b[1;36m2\u001b[0m\u001b[1;33m)\u001b[0m\u001b[1;33m\u001b[0m\u001b[1;33m\u001b[0m\u001b[0m\n\u001b[0m",
      "\u001b[1;31mTypeError\u001b[0m: abc() got an unexpected keyword argument 'numbers'"
     ]
    }
   ],
   "source": [
    "def abc (x,*numbers,y):\n",
    "    print(x)\n",
    "    print(y)\n",
    "    print(numbers) ## return tuple \n",
    "#abc(1,2,6,7,8,9) # list pasing \n",
    "abc(x= 1, numbers=[1,3,4] ,y=2)"
   ]
  },
  {
   "cell_type": "code",
   "execution_count": 164,
   "metadata": {},
   "outputs": [
    {
     "name": "stdout",
     "output_type": "stream",
     "text": [
      "1\n",
      "2\n",
      "(8, 34, 5)\n"
     ]
    }
   ],
   "source": [
    "def abc (*numbers,x,y):\n",
    "    print(x)\n",
    "    print(y)\n",
    "    print(numbers) ## return tuple \n",
    "#abc(1,2,6,7,8,9) # list pasing \n",
    "abc(8,34,5, x= 1,y=2)"
   ]
  },
  {
   "cell_type": "code",
   "execution_count": 165,
   "metadata": {},
   "outputs": [],
   "source": [
    "# ya to hum last mein list argument pass kr sktay hain  last mein agr pass kiya to\n",
    "# keyword orgoment k baghir b chal jaye ga \n",
    "# agr first mein likhna hai to  list k ilawa ka kwyword argument likh sktay hain ya\n"
   ]
  },
  {
   "cell_type": "markdown",
   "metadata": {},
   "source": [
    "# passing dictionary  arguments function **kv\n"
   ]
  },
  {
   "cell_type": "code",
   "execution_count": 172,
   "metadata": {},
   "outputs": [
    {
     "name": "stdout",
     "output_type": "stream",
     "text": [
      "\n",
      "    Student ID : 2797\n",
      "    Studnet Name : Hasnain\n",
      "    Father Name : Alyas\n",
      "    course : A.i\n",
      "    Timing : 5 to 9\n",
      "    \n"
     ]
    }
   ],
   "source": [
    "def id_card(sid, sname, fname, course, timing):\n",
    "    print(\n",
    "    f\"\"\"\n",
    "    Student ID : {sid}\n",
    "    Studnet Name : {sname}\n",
    "    Father Name : {fname}\n",
    "    course : {course}\n",
    "    Timing : {timing}\n",
    "    \"\"\"\n",
    "    )\n",
    "d1 =  {\n",
    "    \"sname\": \"Hasnain\",\n",
    "    \"fname\": \"Alyas\",\n",
    "    \"sid\": 2797,\n",
    "    \"course\": \"A.i\",\n",
    "    \"timing\": \"5 to 9\"\n",
    "    \n",
    "}\n",
    "#id_card(sid=1, course='A.I',timing='9 to 12',sname='Qasim',fname='Aslam')\n",
    "id_card(**d1)"
   ]
  },
  {
   "cell_type": "code",
   "execution_count": 176,
   "metadata": {},
   "outputs": [
    {
     "name": "stdout",
     "output_type": "stream",
     "text": [
      "HAsnain\n",
      "{'a': 'aa', 'b': 'bb', 'c': 'cc'}\n"
     ]
    }
   ],
   "source": [
    "def abc(name,**kv):\n",
    "    print(name)\n",
    "    print(kv)  #become a=\"aa\" #key:value\n",
    "abc(\"HAsnain\", a=\"aa\",b=\"bb\",c=\"cc\")"
   ]
  },
  {
   "cell_type": "markdown",
   "metadata": {},
   "source": [
    "# Resursive Function"
   ]
  },
  {
   "cell_type": "code",
   "execution_count": 187,
   "metadata": {
    "scrolled": true
   },
   "outputs": [
    {
     "data": {
      "text/plain": [
       "120"
      ]
     },
     "execution_count": 187,
     "metadata": {},
     "output_type": "execute_result"
    }
   ],
   "source": [
    "def abc(n):\n",
    "    if n==1:\n",
    "        return 1\n",
    "    return n * abc(n-1)\n",
    "abc(5)"
   ]
  },
  {
   "cell_type": "code",
   "execution_count": 189,
   "metadata": {},
   "outputs": [
    {
     "data": {
      "text/plain": [
       "15"
      ]
     },
     "execution_count": 189,
     "metadata": {},
     "output_type": "execute_result"
    }
   ],
   "source": [
    "\n",
    "def abc(n):\n",
    "    if n==1:\n",
    "        return 1\n",
    "    return n + abc(n-1)\n",
    "\n",
    "abc(5)"
   ]
  },
  {
   "cell_type": "markdown",
   "metadata": {},
   "source": [
    "# Generator Function"
   ]
  },
  {
   "cell_type": "code",
   "execution_count": 212,
   "metadata": {},
   "outputs": [
    {
     "name": "stdout",
     "output_type": "stream",
     "text": [
      "1\n",
      "2\n",
      "3\n",
      "4\n",
      "5\n",
      "6\n",
      "7\n",
      "8\n",
      "9\n",
      "10\n"
     ]
    }
   ],
   "source": [
    "def my_range(n):\n",
    "    for i in range(1, n+1):\n",
    "        print(i)\n",
    "my_range(10)\n"
   ]
  },
  {
   "cell_type": "code",
   "execution_count": 207,
   "metadata": {},
   "outputs": [
    {
     "name": "stdout",
     "output_type": "stream",
     "text": [
      "1\n",
      "2\n"
     ]
    }
   ],
   "source": [
    "def my_range(n):\n",
    "    for i in range(1, n+1):\n",
    "        yield i\n",
    "a = my_range(10)\n",
    "print(next(a))\n",
    "print(next(a))"
   ]
  },
  {
   "cell_type": "code",
   "execution_count": 214,
   "metadata": {},
   "outputs": [
    {
     "name": "stdout",
     "output_type": "stream",
     "text": [
      "1\n",
      "2\n"
     ]
    }
   ],
   "source": [
    "def my_range(n):\n",
    "    for i in range(1, n+1):\n",
    "        yield i\n",
    "a = my_range(10)\n",
    "print(next(a))\n",
    "print(next(a))"
   ]
  },
  {
   "cell_type": "code",
   "execution_count": 222,
   "metadata": {},
   "outputs": [
    {
     "data": {
      "text/plain": [
       "[105, 210, 315, 420, 525, 630, 735, 840, 945]"
      ]
     },
     "execution_count": 222,
     "metadata": {},
     "output_type": "execute_result"
    }
   ],
   "source": [
    "def abc(n):\n",
    "    for i in range(1,n+1):\n",
    "        if (i%7 == 0 and i%5 == 0 and i%15 == 0 ):\n",
    "            yield i\n",
    "a = abc(1000)\n",
    "list(a)"
   ]
  },
  {
   "cell_type": "code",
   "execution_count": 226,
   "metadata": {},
   "outputs": [
    {
     "data": {
      "text/plain": [
       "4"
      ]
     },
     "execution_count": 226,
     "metadata": {},
     "output_type": "execute_result"
    }
   ],
   "source": [
    "abc = lambda x,y,z: x+y+z\n",
    "abc(1,2,1)"
   ]
  },
  {
   "cell_type": "code",
   "execution_count": 230,
   "metadata": {},
   "outputs": [
    {
     "data": {
      "text/plain": [
       "1"
      ]
     },
     "execution_count": 230,
     "metadata": {},
     "output_type": "execute_result"
    }
   ],
   "source": [
    "abc = lambda x,y=0,z=0: x+y+z\n",
    "abc(1)"
   ]
  },
  {
   "cell_type": "code",
   "execution_count": 232,
   "metadata": {},
   "outputs": [
    {
     "ename": "SyntaxError",
     "evalue": "non-default argument follows default argument (<ipython-input-232-5bbcf64caa0c>, line 1)",
     "output_type": "error",
     "traceback": [
      "\u001b[1;36m  File \u001b[1;32m\"<ipython-input-232-5bbcf64caa0c>\"\u001b[1;36m, line \u001b[1;32m1\u001b[0m\n\u001b[1;33m    abc = lambda x=0,y,z: x+y+z\u001b[0m\n\u001b[1;37m                ^\u001b[0m\n\u001b[1;31mSyntaxError\u001b[0m\u001b[1;31m:\u001b[0m non-default argument follows default argument\n"
     ]
    }
   ],
   "source": [
    "abc = lambda x=0,y,z: x+y+z\n",
    "abc(2,1)"
   ]
  },
  {
   "cell_type": "code",
   "execution_count": 238,
   "metadata": {},
   "outputs": [
    {
     "ename": "TypeError",
     "evalue": "<lambda>() got multiple values for argument 'x'",
     "output_type": "error",
     "traceback": [
      "\u001b[1;31m---------------------------------------------------------------------------\u001b[0m",
      "\u001b[1;31mTypeError\u001b[0m                                 Traceback (most recent call last)",
      "\u001b[1;32m<ipython-input-238-67e4ddebb31b>\u001b[0m in \u001b[0;36m<module>\u001b[1;34m\u001b[0m\n\u001b[0;32m      1\u001b[0m \u001b[0mabc\u001b[0m \u001b[1;33m=\u001b[0m \u001b[1;32mlambda\u001b[0m \u001b[0mx\u001b[0m\u001b[1;33m,\u001b[0m\u001b[0my\u001b[0m\u001b[1;33m,\u001b[0m\u001b[0mz\u001b[0m\u001b[1;33m:\u001b[0m \u001b[0mprint\u001b[0m\u001b[1;33m(\u001b[0m\u001b[0mx\u001b[0m\u001b[1;33m,\u001b[0m\u001b[0my\u001b[0m\u001b[1;33m,\u001b[0m\u001b[0mz\u001b[0m\u001b[1;33m)\u001b[0m\u001b[1;33m\u001b[0m\u001b[1;33m\u001b[0m\u001b[0m\n\u001b[1;32m----> 2\u001b[1;33m \u001b[0mabc\u001b[0m\u001b[1;33m(\u001b[0m\u001b[1;36m1\u001b[0m\u001b[1;33m,\u001b[0m\u001b[0mx\u001b[0m\u001b[1;33m=\u001b[0m\u001b[1;36m2\u001b[0m\u001b[1;33m,\u001b[0m\u001b[0my\u001b[0m\u001b[1;33m=\u001b[0m\u001b[1;36m1\u001b[0m\u001b[1;33m)\u001b[0m\u001b[1;33m\u001b[0m\u001b[1;33m\u001b[0m\u001b[0m\n\u001b[0m",
      "\u001b[1;31mTypeError\u001b[0m: <lambda>() got multiple values for argument 'x'"
     ]
    }
   ],
   "source": [
    "abc = lambda x,y,z: print(x,y,z)\n",
    "abc(1,x=2,y=1)"
   ]
  },
  {
   "cell_type": "code",
   "execution_count": 239,
   "metadata": {},
   "outputs": [
    {
     "data": {
      "text/plain": [
       "4"
      ]
     },
     "execution_count": 239,
     "metadata": {},
     "output_type": "execute_result"
    }
   ],
   "source": [
    "abc = lambda x,y,z: x+y+z\n",
    "abc(z=1,y=2,x=1)"
   ]
  },
  {
   "cell_type": "code",
   "execution_count": 251,
   "metadata": {},
   "outputs": [
    {
     "data": {
      "text/plain": [
       "5"
      ]
     },
     "execution_count": 251,
     "metadata": {},
     "output_type": "execute_result"
    }
   ],
   "source": [
    "abc = lambda x,y,z: x if x>y else z\n",
    "abc(1,2,5)"
   ]
  },
  {
   "cell_type": "code",
   "execution_count": 255,
   "metadata": {},
   "outputs": [
    {
     "data": {
      "text/plain": [
       "15"
      ]
     },
     "execution_count": 255,
     "metadata": {},
     "output_type": "execute_result"
    }
   ],
   "source": [
    "abc = lambda x: x*10 if x<2 else (x**2 if x<4 else x+10)  # if elif else in lambda\n",
    "abc(5)\n"
   ]
  },
  {
   "cell_type": "code",
   "execution_count": 261,
   "metadata": {},
   "outputs": [
    {
     "data": {
      "text/plain": [
       "8"
      ]
     },
     "execution_count": 261,
     "metadata": {},
     "output_type": "execute_result"
    }
   ],
   "source": [
    "abc = lambda x: x+2 if x<=2 else (x*2 if x<=4 else x*10)\n",
    "abc(4) ## can true on condiotion AT A TIME  "
   ]
  },
  {
   "cell_type": "code",
   "execution_count": 262,
   "metadata": {},
   "outputs": [
    {
     "ename": "SyntaxError",
     "evalue": "can't assign to lambda (<ipython-input-262-d0ed3ce4bd5c>, line 1)",
     "output_type": "error",
     "traceback": [
      "\u001b[1;36m  File \u001b[1;32m\"<ipython-input-262-d0ed3ce4bd5c>\"\u001b[1;36m, line \u001b[1;32m1\u001b[0m\n\u001b[1;33m    abc = lambda x: x=2 if x<=2 else (x*2 if x<=4 else x*10)\u001b[0m\n\u001b[1;37m         ^\u001b[0m\n\u001b[1;31mSyntaxError\u001b[0m\u001b[1;31m:\u001b[0m can't assign to lambda\n"
     ]
    }
   ],
   "source": [
    "abc = lambda x: x=2 if x<=2 else (x*2 if x<=4 else x*10)\n",
    "abc(4) ## cant assign value to lambda function in this setuation but can in dictionary and list tuple"
   ]
  }
 ],
 "metadata": {
  "kernelspec": {
   "display_name": "Python 3",
   "language": "python",
   "name": "python3"
  },
  "language_info": {
   "codemirror_mode": {
    "name": "ipython",
    "version": 3
   },
   "file_extension": ".py",
   "mimetype": "text/x-python",
   "name": "python",
   "nbconvert_exporter": "python",
   "pygments_lexer": "ipython3",
   "version": "3.7.3"
  }
 },
 "nbformat": 4,
 "nbformat_minor": 2
}
