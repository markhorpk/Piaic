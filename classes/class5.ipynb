{
 "cells": [
  {
   "cell_type": "code",
   "execution_count": 44,
   "metadata": {},
   "outputs": [
    {
     "data": {
      "text/plain": [
       "{1: 'A', 2: 'b', 3: 'C'}"
      ]
     },
     "execution_count": 44,
     "metadata": {},
     "output_type": "execute_result"
    }
   ],
   "source": [
    "dic = {1:'A',\n",
    "      2:\"b\",\n",
    "       3:\"C\"\n",
    "      }\n",
    "dic\n"
   ]
  },
  {
   "cell_type": "code",
   "execution_count": 46,
   "metadata": {},
   "outputs": [
    {
     "data": {
      "text/plain": [
       "{'name': 'husnain', 'skill': 'python', 'class': 'Piaic'}"
      ]
     },
     "execution_count": 46,
     "metadata": {},
     "output_type": "execute_result"
    }
   ],
   "source": [
    "d={}\n",
    "d[\"name\"]=\"husnain\"\n",
    "d[\"skill\"]=\"python\"\n",
    "d[\"class\"]=\"Piaic\"\n",
    "d"
   ]
  },
  {
   "cell_type": "code",
   "execution_count": 2,
   "metadata": {},
   "outputs": [
    {
     "name": "stdout",
     "output_type": "stream",
     "text": [
      "Enter NameHasnain\n",
      "Enter pro languagePython\n",
      "Enter ClassPiaic\n"
     ]
    },
    {
     "data": {
      "text/plain": [
       "{'name': 'Hasnain', 'skill': 'Python', 'class': 'Piaic'}"
      ]
     },
     "execution_count": 2,
     "metadata": {},
     "output_type": "execute_result"
    }
   ],
   "source": [
    "d={}\n",
    "d[\"name\"]=input(\"Enter Name\")\n",
    "d[\"skill\"]=input(\"Enter pro language\")\n",
    "d[\"class\"]=input(\"Enter Class\")\n",
    "d"
   ]
  },
  {
   "cell_type": "code",
   "execution_count": 5,
   "metadata": {},
   "outputs": [
    {
     "name": "stdout",
     "output_type": "stream",
     "text": [
      "{}\n"
     ]
    }
   ],
   "source": [
    "d ={1:\"A\",\n",
    "   2:\"B\",\n",
    "    3:\"C\"\n",
    "   }\n",
    "d.clear()\n",
    "print(d)"
   ]
  },
  {
   "cell_type": "code",
   "execution_count": 7,
   "metadata": {},
   "outputs": [
    {
     "ename": "NameError",
     "evalue": "name 'd' is not defined",
     "output_type": "error",
     "traceback": [
      "\u001b[1;31m---------------------------------------------------------------------------\u001b[0m",
      "\u001b[1;31mNameError\u001b[0m                                 Traceback (most recent call last)",
      "\u001b[1;32m<ipython-input-7-d67085888bf7>\u001b[0m in \u001b[0;36m<module>\u001b[1;34m\u001b[0m\n\u001b[0;32m      4\u001b[0m    }\n\u001b[0;32m      5\u001b[0m \u001b[1;32mdel\u001b[0m \u001b[0md\u001b[0m\u001b[1;33m\u001b[0m\u001b[1;33m\u001b[0m\u001b[0m\n\u001b[1;32m----> 6\u001b[1;33m \u001b[0md\u001b[0m\u001b[1;33m\u001b[0m\u001b[1;33m\u001b[0m\u001b[0m\n\u001b[0m",
      "\u001b[1;31mNameError\u001b[0m: name 'd' is not defined"
     ]
    }
   ],
   "source": [
    "d ={1:\"A\",\n",
    "   2:\"B\",\n",
    "    3:\"C\"\n",
    "   }\n",
    "del d\n",
    "d"
   ]
  },
  {
   "cell_type": "code",
   "execution_count": 17,
   "metadata": {},
   "outputs": [
    {
     "name": "stdout",
     "output_type": "stream",
     "text": [
      "{1: 200, 2: 300, 3: 400}\n",
      "{1: 500, 2: 300, 3: 400}\n"
     ]
    }
   ],
   "source": [
    "d ={\n",
    "    1:200,\n",
    "    2:300,\n",
    "    3:400\n",
    "} #deepcopy\n",
    "d1=d.copy()\n",
    "d1[1]=500\n",
    "print(d)\n",
    "print(d1)"
   ]
  },
  {
   "cell_type": "code",
   "execution_count": 20,
   "metadata": {},
   "outputs": [
    {
     "name": "stdout",
     "output_type": "stream",
     "text": [
      "{1: 500, 2: 300, 3: 400}\n",
      "{1: 500, 2: 300, 3: 400}\n"
     ]
    }
   ],
   "source": [
    "d ={\n",
    "    1:200,\n",
    "    2:300,\n",
    "    3:400\n",
    "} #shalow copy\n",
    "d1=d\n",
    "d1[1]=500\n",
    "print(d)\n",
    "print(d1)"
   ]
  },
  {
   "cell_type": "code",
   "execution_count": 24,
   "metadata": {},
   "outputs": [
    {
     "data": {
      "text/plain": [
       "{'name': 'Value', 'Class': 'Value', 'Skill': 'Value'}"
      ]
     },
     "execution_count": 24,
     "metadata": {},
     "output_type": "execute_result"
    }
   ],
   "source": [
    "list=[\"name\",\"Class\",\"Skill\"]\n",
    "d=dict.fromkeys(list,\"Value\")\n",
    "d"
   ]
  },
  {
   "cell_type": "code",
   "execution_count": 27,
   "metadata": {},
   "outputs": [
    {
     "name": "stdout",
     "output_type": "stream",
     "text": [
      "Enter keys for dictionarya,b,c,d\n"
     ]
    },
    {
     "data": {
      "text/plain": [
       "{'a': None, ',': None, 'b': None, 'c': None, 'd': None}"
      ]
     },
     "execution_count": 27,
     "metadata": {},
     "output_type": "execute_result"
    }
   ],
   "source": [
    "a =input(\"Enter keys for dictionary\")\n",
    "a.split(\",\")\n",
    "d={}\n",
    "d=dict.fromkeys(a)\n",
    "d\n"
   ]
  },
  {
   "cell_type": "code",
   "execution_count": 19,
   "metadata": {},
   "outputs": [
    {
     "name": "stdout",
     "output_type": "stream",
     "text": [
      "Enter keys for dictionarya,b,c\n",
      "Enter values for dictx,y,z\n"
     ]
    },
    {
     "data": {
      "text/plain": [
       "{'a': 'x', 'b': 'y', 'c': 'z'}"
      ]
     },
     "execution_count": 19,
     "metadata": {},
     "output_type": "execute_result"
    }
   ],
   "source": [
    "a =input(\"Enter keys for dictionary\").split(\",\")\n",
    "b =input(\"Enter values for dict\").split(\",\")\n",
    "d={}\n",
    "for i in range(len(a)):\n",
    "    d[a[i]]=b[i]\n",
    "d"
   ]
  },
  {
   "cell_type": "code",
   "execution_count": 23,
   "metadata": {},
   "outputs": [
    {
     "name": "stdout",
     "output_type": "stream",
     "text": [
      "Enter keys for dictionarya,b,c\n",
      "Enter values for dictx,y,z\n",
      "{'a': 'x', 'b': 'y', 'c': 'z'}\n"
     ]
    }
   ],
   "source": [
    "a =input(\"Enter keys for dictionary\").split(\",\")\n",
    "b =input(\"Enter values for dict\").split(\",\")\n",
    "c=zip(a,b)\n",
    "print(dict(c))"
   ]
  },
  {
   "cell_type": "code",
   "execution_count": 2,
   "metadata": {},
   "outputs": [
    {
     "name": "stdout",
     "output_type": "stream",
     "text": [
      "enter keysa,b,c\n",
      "enter Valuesx,y,z\n"
     ]
    },
    {
     "data": {
      "text/plain": [
       "{'a': 'x', 'b': 'y', 'c': 'z'}"
      ]
     },
     "execution_count": 2,
     "metadata": {},
     "output_type": "execute_result"
    }
   ],
   "source": [
    "d2={}\n",
    "key=input(\"enter keys\").split(\",\")\n",
    "values=input(\"enter Values\").split(\",\")\n",
    "d1=dict.fromkeys(key)\n",
    "ind=0;\n",
    "for i in d1:\n",
    "    d2[i]=values[ind]\n",
    "    ind=ind+1\n",
    "d2\n"
   ]
  },
  {
   "cell_type": "code",
   "execution_count": 10,
   "metadata": {},
   "outputs": [
    {
     "name": "stdout",
     "output_type": "stream",
     "text": [
      "Enter id12\n",
      "Enter NameHasnain\n",
      "enter skillsc,c++\n"
     ]
    },
    {
     "data": {
      "text/plain": [
       "{'id': '12', 'Name': 'Hasnain', 'skill': ['c', 'c++']}"
      ]
     },
     "execution_count": 10,
     "metadata": {},
     "output_type": "execute_result"
    }
   ],
   "source": [
    "d={\n",
    "    \"id\":input(\"Enter id\"),\n",
    "    \"Name\":input(\"Enter Name\"),\n",
    "    \"skill\":input(\"enter skills\").split(\",\")\n",
    "    \n",
    "}\n",
    "d"
   ]
  },
  {
   "cell_type": "code",
   "execution_count": 15,
   "metadata": {},
   "outputs": [
    {
     "data": {
      "text/plain": [
       "'Hasnain'"
      ]
     },
     "execution_count": 15,
     "metadata": {},
     "output_type": "execute_result"
    }
   ],
   "source": [
    "d ={\"name\":\"Hasnain\", \"id\":\"12\"}\n",
    "d.get(\"name\")"
   ]
  },
  {
   "cell_type": "code",
   "execution_count": 17,
   "metadata": {},
   "outputs": [
    {
     "data": {
      "text/plain": [
       "'not Available'"
      ]
     },
     "execution_count": 17,
     "metadata": {},
     "output_type": "execute_result"
    }
   ],
   "source": [
    "d ={\"name\":\"Hasnain\", \"id\":\"12\"}\n",
    "d.get(\"namea\",\"not Available\")"
   ]
  },
  {
   "cell_type": "code",
   "execution_count": 24,
   "metadata": {},
   "outputs": [
    {
     "name": "stdout",
     "output_type": "stream",
     "text": [
      "200\n",
      "{'name': 'Ali', 'skills': ['a', 'b', 'c', 'd']}\n"
     ]
    }
   ],
   "source": [
    "d5 ={'id': '200', 'name': 'Ali', 'skills': ['a', 'b', 'c', 'd']}\n",
    "print(d5.pop(\"id\"))\n",
    "print(d5)\n",
    "#pop function in dictionary return only  value not key"
   ]
  },
  {
   "cell_type": "code",
   "execution_count": 26,
   "metadata": {},
   "outputs": [
    {
     "name": "stdout",
     "output_type": "stream",
     "text": [
      "('skills', ['a', 'b', 'c', 'd'])\n",
      "{'id': '200', 'name': 'Ali'}\n"
     ]
    }
   ],
   "source": [
    "d1 ={'id': '200', 'name': 'Ali', 'skills': ['a', 'b', 'c', 'd']}\n",
    "print(d1.popitem())\n",
    "##popitem in dictinary return key with value\n",
    "print(d1)"
   ]
  },
  {
   "cell_type": "code",
   "execution_count": 29,
   "metadata": {},
   "outputs": [
    {
     "name": "stdout",
     "output_type": "stream",
     "text": [
      "{'id': '200', 'name': 'Ali', 'skills': ['a', 'b', 'c', 'd'], 'cnic': '32402XXXX'}\n"
     ]
    }
   ],
   "source": [
    "d1 ={'id': '200', 'name': 'Ali', 'skills': ['a', 'b', 'c', 'd']}\n",
    "d1.setdefault(\"cnic\",\"32402XXXX\")\n",
    "##setdefault function add  key with value if not available if availble its just do nothing not  can modify any value or update\n",
    "print(d1)"
   ]
  },
  {
   "cell_type": "code",
   "execution_count": 32,
   "metadata": {},
   "outputs": [
    {
     "name": "stdout",
     "output_type": "stream",
     "text": [
      "{'a': 125, 'b': 200, 'c': 100, 'x': 200}\n"
     ]
    }
   ],
   "source": [
    "dic1 = {'a':1, 'b':2, 'c':100}\n",
    "dic2 = {\"x\":200,'b':200,'a':125}\n",
    "dic1.update(dic2)\n",
    "print(dic1) ## if same value availble update it "
   ]
  },
  {
   "cell_type": "code",
   "execution_count": 6,
   "metadata": {},
   "outputs": [
    {
     "data": {
      "text/plain": [
       "{'a': 200, 'b': 600, 'c': 400, 'd': 500}"
      ]
     },
     "execution_count": 6,
     "metadata": {},
     "output_type": "execute_result"
    }
   ],
   "source": [
    "d1 = {\n",
    "    'a':200,\n",
    "    \"b\":600,\n",
    "    \"c\":400,\n",
    "    'd':500\n",
    "    \n",
    "}\n",
    "d2 = {}\n",
    "for i in sorted(d1.keys()):\n",
    "    d2[i]=d1[i]\n",
    "d2"
   ]
  },
  {
   "cell_type": "code",
   "execution_count": 14,
   "metadata": {},
   "outputs": [
    {
     "name": "stdout",
     "output_type": "stream",
     "text": [
      "{'b': 600, 'd': 500, 'c': 400, 'a': 200}\n"
     ]
    }
   ],
   "source": [
    "moon = {}\n",
    "scores = {\n",
    "    'a':200,\n",
    "    \"b\":600,\n",
    "    \"c\":400,\n",
    "    'd':500\n",
    "}\n",
    "for key,value in sorted(scores.items(), key = lambda kv : kv[1] ,reverse =True):   #by default it is false\n",
    "    moon[key] = value\n",
    "print(moon)"
   ]
  },
  {
   "cell_type": "code",
   "execution_count": 18,
   "metadata": {},
   "outputs": [
    {
     "name": "stdout",
     "output_type": "stream",
     "text": [
      "for stop press N or nj\n",
      "your id23\n",
      "your namehas\n",
      "skills c++,computer expert,web\n",
      "for stop press N or nn\n"
     ]
    },
    {
     "data": {
      "text/plain": [
       "{'id': '23', 'Name': 'has', 'skills': ['c++', 'computer expert', 'web']}"
      ]
     },
     "execution_count": 18,
     "metadata": {},
     "output_type": "execute_result"
    }
   ],
   "source": [
    "l1 = []\n",
    "inn = True\n",
    "while inn:\n",
    "    a = input(\"for stop press N or n\")\n",
    "    if a =='N' or a == \"n\":\n",
    "        inn = False\n",
    "    else:\n",
    "        d1 = {\n",
    "            \"id\":input(\"your id\"),\n",
    "            \"Name\":input(\"your name\"),\n",
    "            \"skills\":input(\"skills \").split(\",\")\n",
    "            \n",
    "        }\n",
    "d1"
   ]
  },
  {
   "cell_type": "code",
   "execution_count": 26,
   "metadata": {},
   "outputs": [
    {
     "data": {
      "text/plain": [
       "[('C', 'x', 100), ('B', 'y', 50), ('A', 'z', 20)]"
      ]
     },
     "execution_count": 26,
     "metadata": {},
     "output_type": "execute_result"
    }
   ],
   "source": [
    "def abc(x):\n",
    "    return x[-1]\n",
    "\n",
    "a=[(\"A\",'z',20),\n",
    "  (\"C\",'x',100),\n",
    "  (\"B\",'y',50)]\n",
    "\n",
    "sorted(a , key=abc , reverse=True)\n"
   ]
  },
  {
   "cell_type": "code",
   "execution_count": 27,
   "metadata": {},
   "outputs": [
    {
     "data": {
      "text/plain": [
       "[('C', 'x', 100), ('B', 'y', 50), ('A', 'z', 20)]"
      ]
     },
     "execution_count": 27,
     "metadata": {},
     "output_type": "execute_result"
    }
   ],
   "source": [
    "def abc(x):\n",
    "    return x[-2]\n",
    "\n",
    "a=[(\"A\",'z',20),\n",
    "  (\"C\",'x',100),\n",
    "  (\"B\",'y',50)]\n",
    "\n",
    "sorted(a , key=abc )\n"
   ]
  },
  {
   "cell_type": "code",
   "execution_count": 28,
   "metadata": {},
   "outputs": [
    {
     "data": {
      "text/plain": [
       "[('C', 'x', 100), ('B', 'y', 50), ('A', 'z', 20)]"
      ]
     },
     "execution_count": 28,
     "metadata": {},
     "output_type": "execute_result"
    }
   ],
   "source": [
    "def abc(x):\n",
    "    return x[-3]\n",
    "\n",
    "a=[(\"A\",'z',20),\n",
    "  (\"C\",'x',100),\n",
    "  (\"B\",'y',50)]\n",
    "\n",
    "sorted(a , key=abc , reverse=True)\n"
   ]
  },
  {
   "cell_type": "code",
   "execution_count": 30,
   "metadata": {},
   "outputs": [
    {
     "data": {
      "text/plain": [
       "[('A', 'z', 20), ('B', 'y', 50), ('C', 'x', 100)]"
      ]
     },
     "execution_count": 30,
     "metadata": {},
     "output_type": "execute_result"
    }
   ],
   "source": [
    "a=[(\"A\",'z',20),\n",
    "  (\"C\",'x',100),\n",
    "  (\"B\",'y',50)]\n",
    "\n",
    "sorted(a , key= lambda x: x[-1])\n"
   ]
  },
  {
   "cell_type": "code",
   "execution_count": null,
   "metadata": {},
   "outputs": [],
   "source": []
  }
 ],
 "metadata": {
  "kernelspec": {
   "display_name": "Python 3",
   "language": "python",
   "name": "python3"
  },
  "language_info": {
   "codemirror_mode": {
    "name": "ipython",
    "version": 3
   },
   "file_extension": ".py",
   "mimetype": "text/x-python",
   "name": "python",
   "nbconvert_exporter": "python",
   "pygments_lexer": "ipython3",
   "version": "3.7.3"
  }
 },
 "nbformat": 4,
 "nbformat_minor": 2
}
