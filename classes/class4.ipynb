{
 "cells": [
  {
   "cell_type": "code",
   "execution_count": 1,
   "metadata": {},
   "outputs": [
    {
     "data": {
      "text/plain": [
       "'hasnain'"
      ]
     },
     "execution_count": 1,
     "metadata": {},
     "output_type": "execute_result"
    }
   ],
   "source": [
    "name = \"hasnain\"\n",
    "name"
   ]
  },
  {
   "cell_type": "code",
   "execution_count": 3,
   "metadata": {},
   "outputs": [
    {
     "name": "stdout",
     "output_type": "stream",
     "text": [
      "hasnain javad khan\n"
     ]
    }
   ],
   "source": [
    "name =\"hasnain\"\n",
    "name1= \"javad\"\n",
    "name2 = \"khan\"\n",
    "print(name,name1,name2)"
   ]
  },
  {
   "cell_type": "code",
   "execution_count": 5,
   "metadata": {},
   "outputs": [
    {
     "name": "stdout",
     "output_type": "stream",
     "text": [
      "1234\n",
      "1234\n"
     ]
    }
   ],
   "source": [
    "name = [\"hasnain\",1234,\"javad\"]\n",
    "print(name[1])\n",
    "print(name[-2])\n"
   ]
  },
  {
   "cell_type": "code",
   "execution_count": 7,
   "metadata": {},
   "outputs": [
    {
     "name": "stdout",
     "output_type": "stream",
     "text": [
      "i love pakistan\n",
      "None\n"
     ]
    }
   ],
   "source": [
    "a=print(\"i love pakistan\")\n",
    "print(a)"
   ]
  },
  {
   "cell_type": "code",
   "execution_count": 8,
   "metadata": {},
   "outputs": [
    {
     "name": "stdout",
     "output_type": "stream",
     "text": [
      "10\n"
     ]
    }
   ],
   "source": [
    "a =len(\"fuydsihajk\")\n",
    "print(a)"
   ]
  },
  {
   "cell_type": "code",
   "execution_count": 10,
   "metadata": {},
   "outputs": [
    {
     "name": "stdout",
     "output_type": "stream",
     "text": [
      "['Hasnain', 1212, 'ilyas']\n"
     ]
    }
   ],
   "source": [
    "L1=[]\n",
    "L1.append(\"Hasnain\")\n",
    "L1.append(1212)\n",
    "L1.append(\"ilyas\")\n",
    "print(L1)"
   ]
  },
  {
   "cell_type": "code",
   "execution_count": 13,
   "metadata": {},
   "outputs": [
    {
     "name": "stdout",
     "output_type": "stream",
     "text": [
      "[]\n"
     ]
    }
   ],
   "source": [
    "L1.clear()\n",
    "print(L1)"
   ]
  },
  {
   "cell_type": "code",
   "execution_count": 14,
   "metadata": {},
   "outputs": [
    {
     "ename": "NameError",
     "evalue": "name 'L1' is not defined",
     "output_type": "error",
     "traceback": [
      "\u001b[1;31m---------------------------------------------------------------------------\u001b[0m",
      "\u001b[1;31mNameError\u001b[0m                                 Traceback (most recent call last)",
      "\u001b[1;32m<ipython-input-14-d7769cf67732>\u001b[0m in \u001b[0;36m<module>\u001b[1;34m\u001b[0m\n\u001b[0;32m      1\u001b[0m \u001b[0mL1\u001b[0m\u001b[1;33m=\u001b[0m\u001b[1;33m[\u001b[0m\u001b[1;34m\"dfsghaj\"\u001b[0m\u001b[1;33m,\u001b[0m\u001b[1;36m3562\u001b[0m\u001b[1;33m]\u001b[0m\u001b[1;33m\u001b[0m\u001b[1;33m\u001b[0m\u001b[0m\n\u001b[0;32m      2\u001b[0m \u001b[1;32mdel\u001b[0m \u001b[0mL1\u001b[0m\u001b[1;33m\u001b[0m\u001b[1;33m\u001b[0m\u001b[0m\n\u001b[1;32m----> 3\u001b[1;33m \u001b[0mprint\u001b[0m\u001b[1;33m(\u001b[0m\u001b[0mL1\u001b[0m\u001b[1;33m)\u001b[0m\u001b[1;33m\u001b[0m\u001b[1;33m\u001b[0m\u001b[0m\n\u001b[0m",
      "\u001b[1;31mNameError\u001b[0m: name 'L1' is not defined"
     ]
    }
   ],
   "source": [
    "L1=[\"dfsghaj\",3562]\n",
    "del L1\n",
    "print(L1)"
   ]
  },
  {
   "cell_type": "code",
   "execution_count": 16,
   "metadata": {},
   "outputs": [
    {
     "name": "stdout",
     "output_type": "stream",
     "text": [
      "['A', 'B', 'C']\n",
      "['A', 'B', 'C']\n",
      "['Pakistan', 'B', 'C']\n",
      "['Pakistan', 'B', 'C']\n"
     ]
    }
   ],
   "source": [
    "#shalow copy \n",
    "L1=[\"A\",\"B\",\"C\"]\n",
    "L2=L1\n",
    "print(L1)\n",
    "print(L2)\n",
    "L1[0]=\"Pakistan\"\n",
    "print(L2)\n",
    "print(L1)"
   ]
  },
  {
   "cell_type": "code",
   "execution_count": 44,
   "metadata": {},
   "outputs": [
    {
     "name": "stdout",
     "output_type": "stream",
     "text": [
      "['A', 'B', 'c']\n",
      "['A', 'B', 'c']\n",
      "['A', 'B', 'c']\n",
      "['Pakistan', 'B', 'c']\n"
     ]
    }
   ],
   "source": [
    "#deep Copy\n",
    "L1=[\"A\",\"B\",\"c\"]\n",
    "L2=L1.copy()\n",
    "print(L1,L2, sep =\"\\n\")\n",
    "L2[0]=\"Pakistan\"\n",
    "print(L1,L2, sep =\"\\n\")\n"
   ]
  },
  {
   "cell_type": "code",
   "execution_count": 48,
   "metadata": {},
   "outputs": [
    {
     "name": "stdout",
     "output_type": "stream",
     "text": [
      "['A', 'B', 'C', 'A', 'B', 'C']\n",
      "['A', 'B', 'C'] ['D', 'E', 'F']\n"
     ]
    }
   ],
   "source": [
    "l1=['A',\"B\",\"C\"]\n",
    "l2=[\"D\",\"E\",\"F\"]\n",
    "print(l1+l1) #inline operation\n",
    "print(l1,l2)"
   ]
  },
  {
   "cell_type": "code",
   "execution_count": 55,
   "metadata": {},
   "outputs": [
    {
     "name": "stdout",
     "output_type": "stream",
     "text": [
      "['A', 'B', 'C', 'D', 'E', 'F']\n",
      "['A', 'B', 'C'] ['D', 'E', 'F']\n"
     ]
    }
   ],
   "source": [
    "l1=[\"A\",\"B\",\"C\"]\n",
    "l2=[\"D\",\"E\",\"F\"]\n",
    "print(l1.__add__(l2)) #inline operation \n",
    "print(l1,l2)\n"
   ]
  },
  {
   "cell_type": "code",
   "execution_count": 56,
   "metadata": {},
   "outputs": [
    {
     "name": "stdout",
     "output_type": "stream",
     "text": [
      "['A', 'B', 'C', 'D', 'E', 'F']\n",
      "['D', 'E', 'F']\n"
     ]
    }
   ],
   "source": [
    "l1=[\"A\",\"B\",\"C\"]\n",
    "l2=[\"D\",\"E\",\"F\"]\n",
    "l1.extend(l2) #in memory operation\n",
    "print(l1)\n",
    "print(l2)"
   ]
  },
  {
   "cell_type": "code",
   "execution_count": 59,
   "metadata": {},
   "outputs": [
    {
     "name": "stdout",
     "output_type": "stream",
     "text": [
      "['A', 'B', 'C', 'D', 'E', 'F']\n",
      "3\n"
     ]
    }
   ],
   "source": [
    "print(l1)\n",
    "print(l1.index(\"D\"))\n",
    "##index telling "
   ]
  },
  {
   "cell_type": "code",
   "execution_count": 63,
   "metadata": {},
   "outputs": [
    {
     "name": "stdout",
     "output_type": "stream",
     "text": [
      "0\n",
      "5\n"
     ]
    }
   ],
   "source": [
    "l1=['A', 'B', 'A', 'D', 'E', 'A']\n",
    "print(l1.index(\"A\"))\n",
    "print(l1.index(\"A\",3))\n"
   ]
  },
  {
   "cell_type": "code",
   "execution_count": 67,
   "metadata": {},
   "outputs": [
    {
     "name": "stdout",
     "output_type": "stream",
     "text": [
      "l1\n",
      "['C', 'Z', 'B', 'A']\n"
     ]
    }
   ],
   "source": [
    "l1=[]\n",
    "l1.insert(0,\"A\") ## insertion at beggining\n",
    "l1.insert(0,\"B\")\n",
    "l1.insert(0,\"C\")\n",
    "print(\"l1\")\n",
    "l1.insert(1,\"Z\") ## insertion at mid\n",
    "print(l1)"
   ]
  },
  {
   "cell_type": "code",
   "execution_count": 69,
   "metadata": {},
   "outputs": [
    {
     "name": "stdout",
     "output_type": "stream",
     "text": [
      "['A']\n"
     ]
    }
   ],
   "source": [
    "l1=[\"A\",\"B\",\"C\"] \n",
    "del l1[-1] ##deletion at end\n",
    "del l1[-1] ## deletion at end\n",
    "print(l1)"
   ]
  },
  {
   "cell_type": "code",
   "execution_count": 73,
   "metadata": {},
   "outputs": [
    {
     "name": "stdout",
     "output_type": "stream",
     "text": [
      "['A', 'B']\n",
      "['E', 'D', 'C']\n"
     ]
    }
   ],
   "source": [
    "l2 = []\n",
    "l1=[\"A\",\"B\",\"C\",\"D\",\"E\"]\n",
    "a=l1.pop() #E ##stack vale at the top can be poped\n",
    "l2.append(a) #[\"E\"]\n",
    "a=l1.pop() #D \n",
    "l2.append(a) #[\"E\",\"D\"]\n",
    "a=l1.pop() #C\n",
    "l2.append(a) # [\"E\",\"D\",\"C\"]\n",
    "\n",
    "print(l1 , l2, sep=\"\\n\")"
   ]
  },
  {
   "cell_type": "code",
   "execution_count": 74,
   "metadata": {},
   "outputs": [
    {
     "name": "stdout",
     "output_type": "stream",
     "text": [
      "['A', 'E']\n",
      "['B', 'C', 'D']\n"
     ]
    }
   ],
   "source": [
    "    l2 = []\n",
    "l1=[\"A\",\"B\",\"C\",\"D\",\"E\"]\n",
    "a=l1.pop(1) #B ##in python like  stack  we can pop value at specific location\n",
    "l2.append(a) #[\"B\"]\n",
    "a=l1.pop(1) #C \n",
    "l2.append(a) #[\"B\",\"C\"]\n",
    "a=l1.pop(1) #D\n",
    "l2.append(a) # [\"B\",\"C\",\"D\"]\n",
    "\n",
    "print(l1 , l2, sep=\"\\n\")"
   ]
  },
  {
   "cell_type": "code",
   "execution_count": 76,
   "metadata": {},
   "outputs": [
    {
     "name": "stdout",
     "output_type": "stream",
     "text": [
      "['A', 'C', 'D', 'B']\n",
      "['A', 'C', 'D']\n"
     ]
    }
   ],
   "source": [
    "l1=[\"A\",\"B\",\"C\",\"D\",\"B\"]\n",
    "l1.remove(\"B\")  ## function runing sequncionly from 0 to any location and del only 1 char not all B in list\n",
    "print(l1)\n",
    "l1.remove(\"B\")\n",
    "print(l1)"
   ]
  },
  {
   "cell_type": "code",
   "execution_count": 78,
   "metadata": {},
   "outputs": [
    {
     "name": "stdout",
     "output_type": "stream",
     "text": [
      "['A', 'B', 'C']\n",
      "['C', 'B', 'A']\n"
     ]
    }
   ],
   "source": [
    "l1 =[\"A\",\"B\",\"C\"]\n",
    "print(l1)\n",
    "l1.reverse()\n",
    "print(l1)"
   ]
  },
  {
   "cell_type": "code",
   "execution_count": 81,
   "metadata": {},
   "outputs": [
    {
     "name": "stdout",
     "output_type": "stream",
     "text": [
      "['X', 'Y', 'Z']\n",
      "['Z', 'Y', 'X']\n"
     ]
    }
   ],
   "source": [
    "l1= [\"X\",\"Y\",\"Z\"]\n",
    "l1.sort()\n",
    "print(l1)\n",
    "l1.reverse()\n",
    "print(l1)"
   ]
  },
  {
   "cell_type": "code",
   "execution_count": 84,
   "metadata": {},
   "outputs": [
    {
     "name": "stdout",
     "output_type": "stream",
     "text": [
      "['Z', 'Y', 'X']\n"
     ]
    },
    {
     "data": {
      "text/plain": [
       "list"
      ]
     },
     "execution_count": 84,
     "metadata": {},
     "output_type": "execute_result"
    }
   ],
   "source": [
    "print(l1)\n",
    "l1.__class__"
   ]
  },
  {
   "cell_type": "code",
   "execution_count": 87,
   "metadata": {},
   "outputs": [
    {
     "data": {
      "text/plain": [
       "False"
      ]
     },
     "execution_count": 87,
     "metadata": {},
     "output_type": "execute_result"
    }
   ],
   "source": [
    "l1.__contains__(\"A\")\n"
   ]
  },
  {
   "cell_type": "code",
   "execution_count": 92,
   "metadata": {},
   "outputs": [
    {
     "name": "stdout",
     "output_type": "stream",
     "text": [
      "['X', 'Z']\n"
     ]
    }
   ],
   "source": [
    "l1= [\"X\",\"Y\",\"Z\"]\n",
    "l1.__delitem__(1)\n",
    "print(l1)"
   ]
  },
  {
   "cell_type": "code",
   "execution_count": 110,
   "metadata": {},
   "outputs": [
    {
     "data": {
      "text/plain": [
       "True"
      ]
     },
     "execution_count": 110,
     "metadata": {},
     "output_type": "execute_result"
    }
   ],
   "source": [
    "[1,2,3].__eq__([1,2,3])\n",
    "\n",
    "\n"
   ]
  },
  {
   "cell_type": "code",
   "execution_count": 115,
   "metadata": {},
   "outputs": [
    {
     "data": {
      "text/plain": [
       "False"
      ]
     },
     "execution_count": 115,
     "metadata": {},
     "output_type": "execute_result"
    }
   ],
   "source": [
    "[1,2,3].__ge__([8,9,4]) ##??"
   ]
  },
  {
   "cell_type": "code",
   "execution_count": 117,
   "metadata": {},
   "outputs": [
    {
     "data": {
      "text/plain": [
       "['A', 'B', 'A', 'B']"
      ]
     },
     "execution_count": 117,
     "metadata": {},
     "output_type": "execute_result"
    }
   ],
   "source": [
    "[\"A\",\"B\"].__mul__(2)"
   ]
  },
  {
   "cell_type": "code",
   "execution_count": 119,
   "metadata": {},
   "outputs": [
    {
     "data": {
      "text/plain": [
       "['A', 'B', 'A', 'B']"
      ]
     },
     "execution_count": 119,
     "metadata": {},
     "output_type": "execute_result"
    }
   ],
   "source": [
    "[\"A\",\"B\"] * 2"
   ]
  },
  {
   "cell_type": "code",
   "execution_count": 121,
   "metadata": {},
   "outputs": [
    {
     "ename": "TypeError",
     "evalue": "'tuple' object does not support item assignment",
     "output_type": "error",
     "traceback": [
      "\u001b[1;31m---------------------------------------------------------------------------\u001b[0m",
      "\u001b[1;31mTypeError\u001b[0m                                 Traceback (most recent call last)",
      "\u001b[1;32m<ipython-input-121-7e8716bb0dd1>\u001b[0m in \u001b[0;36m<module>\u001b[1;34m\u001b[0m\n\u001b[0;32m      1\u001b[0m \u001b[0ml1\u001b[0m\u001b[1;33m=\u001b[0m \u001b[1;33m(\u001b[0m\u001b[1;34m\"A\"\u001b[0m\u001b[1;33m,\u001b[0m\u001b[1;34m\"B\"\u001b[0m\u001b[1;33m,\u001b[0m\u001b[1;34m\"C\"\u001b[0m\u001b[1;33m)\u001b[0m\u001b[1;33m\u001b[0m\u001b[1;33m\u001b[0m\u001b[0m\n\u001b[1;32m----> 2\u001b[1;33m \u001b[0ml1\u001b[0m\u001b[1;33m[\u001b[0m\u001b[1;36m1\u001b[0m\u001b[1;33m]\u001b[0m\u001b[1;33m=\u001b[0m\u001b[1;36m5\u001b[0m\u001b[1;33m\u001b[0m\u001b[1;33m\u001b[0m\u001b[0m\n\u001b[0m",
      "\u001b[1;31mTypeError\u001b[0m: 'tuple' object does not support item assignment"
     ]
    }
   ],
   "source": [
    "l1= (\"A\",\"B\",\"C\")\n",
    "l1[1]=5 ##tuple does not support assignment\n"
   ]
  },
  {
   "cell_type": "code",
   "execution_count": 124,
   "metadata": {},
   "outputs": [
    {
     "name": "stdout",
     "output_type": "stream",
     "text": [
      "('A', 5, 'C')\n"
     ]
    }
   ],
   "source": [
    "l1= (\"A\",\"B\",\"C\")\n",
    "l1= (\"A\",5,\"C\")\n",
    "print(l1)"
   ]
  },
  {
   "cell_type": "code",
   "execution_count": 126,
   "metadata": {},
   "outputs": [
    {
     "name": "stdout",
     "output_type": "stream",
     "text": [
      "Help on class list in module builtins:\n",
      "\n",
      "class list(object)\n",
      " |  list(iterable=(), /)\n",
      " |  \n",
      " |  Built-in mutable sequence.\n",
      " |  \n",
      " |  If no argument is given, the constructor creates a new empty list.\n",
      " |  The argument must be an iterable if specified.\n",
      " |  \n",
      " |  Methods defined here:\n",
      " |  \n",
      " |  __add__(self, value, /)\n",
      " |      Return self+value.\n",
      " |  \n",
      " |  __contains__(self, key, /)\n",
      " |      Return key in self.\n",
      " |  \n",
      " |  __delitem__(self, key, /)\n",
      " |      Delete self[key].\n",
      " |  \n",
      " |  __eq__(self, value, /)\n",
      " |      Return self==value.\n",
      " |  \n",
      " |  __ge__(self, value, /)\n",
      " |      Return self>=value.\n",
      " |  \n",
      " |  __getattribute__(self, name, /)\n",
      " |      Return getattr(self, name).\n",
      " |  \n",
      " |  __getitem__(...)\n",
      " |      x.__getitem__(y) <==> x[y]\n",
      " |  \n",
      " |  __gt__(self, value, /)\n",
      " |      Return self>value.\n",
      " |  \n",
      " |  __iadd__(self, value, /)\n",
      " |      Implement self+=value.\n",
      " |  \n",
      " |  __imul__(self, value, /)\n",
      " |      Implement self*=value.\n",
      " |  \n",
      " |  __init__(self, /, *args, **kwargs)\n",
      " |      Initialize self.  See help(type(self)) for accurate signature.\n",
      " |  \n",
      " |  __iter__(self, /)\n",
      " |      Implement iter(self).\n",
      " |  \n",
      " |  __le__(self, value, /)\n",
      " |      Return self<=value.\n",
      " |  \n",
      " |  __len__(self, /)\n",
      " |      Return len(self).\n",
      " |  \n",
      " |  __lt__(self, value, /)\n",
      " |      Return self<value.\n",
      " |  \n",
      " |  __mul__(self, value, /)\n",
      " |      Return self*value.\n",
      " |  \n",
      " |  __ne__(self, value, /)\n",
      " |      Return self!=value.\n",
      " |  \n",
      " |  __repr__(self, /)\n",
      " |      Return repr(self).\n",
      " |  \n",
      " |  __reversed__(self, /)\n",
      " |      Return a reverse iterator over the list.\n",
      " |  \n",
      " |  __rmul__(self, value, /)\n",
      " |      Return value*self.\n",
      " |  \n",
      " |  __setitem__(self, key, value, /)\n",
      " |      Set self[key] to value.\n",
      " |  \n",
      " |  __sizeof__(self, /)\n",
      " |      Return the size of the list in memory, in bytes.\n",
      " |  \n",
      " |  append(self, object, /)\n",
      " |      Append object to the end of the list.\n",
      " |  \n",
      " |  clear(self, /)\n",
      " |      Remove all items from list.\n",
      " |  \n",
      " |  copy(self, /)\n",
      " |      Return a shallow copy of the list.\n",
      " |  \n",
      " |  count(self, value, /)\n",
      " |      Return number of occurrences of value.\n",
      " |  \n",
      " |  extend(self, iterable, /)\n",
      " |      Extend list by appending elements from the iterable.\n",
      " |  \n",
      " |  index(self, value, start=0, stop=9223372036854775807, /)\n",
      " |      Return first index of value.\n",
      " |      \n",
      " |      Raises ValueError if the value is not present.\n",
      " |  \n",
      " |  insert(self, index, object, /)\n",
      " |      Insert object before index.\n",
      " |  \n",
      " |  pop(self, index=-1, /)\n",
      " |      Remove and return item at index (default last).\n",
      " |      \n",
      " |      Raises IndexError if list is empty or index is out of range.\n",
      " |  \n",
      " |  remove(self, value, /)\n",
      " |      Remove first occurrence of value.\n",
      " |      \n",
      " |      Raises ValueError if the value is not present.\n",
      " |  \n",
      " |  reverse(self, /)\n",
      " |      Reverse *IN PLACE*.\n",
      " |  \n",
      " |  sort(self, /, *, key=None, reverse=False)\n",
      " |      Stable sort *IN PLACE*.\n",
      " |  \n",
      " |  ----------------------------------------------------------------------\n",
      " |  Static methods defined here:\n",
      " |  \n",
      " |  __new__(*args, **kwargs) from builtins.type\n",
      " |      Create and return a new object.  See help(type) for accurate signature.\n",
      " |  \n",
      " |  ----------------------------------------------------------------------\n",
      " |  Data and other attributes defined here:\n",
      " |  \n",
      " |  __hash__ = None\n",
      "\n"
     ]
    }
   ],
   "source": [
    "help(list)"
   ]
  },
  {
   "cell_type": "code",
   "execution_count": 128,
   "metadata": {},
   "outputs": [
    {
     "name": "stdout",
     "output_type": "stream",
     "text": [
      "46\n"
     ]
    },
    {
     "data": {
      "text/plain": [
       "['__add__',\n",
       " '__class__',\n",
       " '__contains__',\n",
       " '__delattr__',\n",
       " '__delitem__',\n",
       " '__dir__',\n",
       " '__doc__',\n",
       " '__eq__',\n",
       " '__format__',\n",
       " '__ge__',\n",
       " '__getattribute__',\n",
       " '__getitem__',\n",
       " '__gt__',\n",
       " '__hash__',\n",
       " '__iadd__',\n",
       " '__imul__',\n",
       " '__init__',\n",
       " '__init_subclass__',\n",
       " '__iter__',\n",
       " '__le__',\n",
       " '__len__',\n",
       " '__lt__',\n",
       " '__mul__',\n",
       " '__ne__',\n",
       " '__new__',\n",
       " '__reduce__',\n",
       " '__reduce_ex__',\n",
       " '__repr__',\n",
       " '__reversed__',\n",
       " '__rmul__',\n",
       " '__setattr__',\n",
       " '__setitem__',\n",
       " '__sizeof__',\n",
       " '__str__',\n",
       " '__subclasshook__',\n",
       " 'append',\n",
       " 'clear',\n",
       " 'copy',\n",
       " 'count',\n",
       " 'extend',\n",
       " 'index',\n",
       " 'insert',\n",
       " 'pop',\n",
       " 'remove',\n",
       " 'reverse',\n",
       " 'sort']"
      ]
     },
     "execution_count": 128,
     "metadata": {},
     "output_type": "execute_result"
    }
   ],
   "source": [
    "print(len(dir(list)))\n",
    "dir(list)"
   ]
  },
  {
   "cell_type": "code",
   "execution_count": 129,
   "metadata": {},
   "outputs": [
    {
     "data": {
      "text/plain": [
       "'AAAAAAAAAA'"
      ]
     },
     "execution_count": 129,
     "metadata": {},
     "output_type": "execute_result"
    }
   ],
   "source": [
    "\"A\" * 10"
   ]
  },
  {
   "cell_type": "code",
   "execution_count": 130,
   "metadata": {},
   "outputs": [],
   "source": [
    "#counter #logic #increment/decreament"
   ]
  },
  {
   "cell_type": "code",
   "execution_count": 134,
   "metadata": {},
   "outputs": [
    {
     "name": "stdout",
     "output_type": "stream",
     "text": [
      "line NO 1\n",
      "line NO 2\n",
      "line NO 3\n",
      "line NO 4\n",
      "line NO 5\n",
      "line NO 6\n",
      "line NO 7\n",
      "line NO 8\n",
      "line NO 9\n",
      "line NO 10\n"
     ]
    }
   ],
   "source": [
    "counter =1\n",
    "while counter<=10:\n",
    "      print(\"line NO\",counter)\n",
    "      counter +=1\n",
    "    "
   ]
  },
  {
   "cell_type": "code",
   "execution_count": 135,
   "metadata": {},
   "outputs": [
    {
     "name": "stdout",
     "output_type": "stream",
     "text": [
      "line No 10\n",
      "line No 9\n",
      "line No 8\n",
      "line No 7\n",
      "line No 6\n",
      "line No 5\n",
      "line No 4\n",
      "line No 3\n",
      "line No 2\n",
      "line No 1\n"
     ]
    }
   ],
   "source": [
    "counter =10\n",
    "while counter>0:\n",
    "      print(\"line No\",counter)\n",
    "      counter -=1"
   ]
  },
  {
   "cell_type": "code",
   "execution_count": 141,
   "metadata": {},
   "outputs": [
    {
     "name": "stdout",
     "output_type": "stream",
     "text": [
      "line No 1\n",
      "line No 2\n",
      "line No 3\n",
      "line No 4\n",
      "line No 5\n",
      "line No 6\n",
      "line No 7\n",
      "line No 8\n",
      "line No 9\n",
      "line No 10\n"
     ]
    }
   ],
   "source": [
    "for i in range(1,11,1): ##if not enter increment or decrement it inbuilt suppos increament of 1\n",
    "    #i=1,i<11,i++\n",
    "         print(\"line No\",i)"
   ]
  },
  {
   "cell_type": "code",
   "execution_count": 147,
   "metadata": {},
   "outputs": [
    {
     "name": "stdout",
     "output_type": "stream",
     "text": [
      "Line No 10\n",
      "Line No 9\n",
      "Line No 8\n",
      "Line No 7\n",
      "Line No 6\n",
      "Line No 5\n",
      "Line No 4\n",
      "Line No 3\n",
      "Line No 2\n",
      "Line No 1\n"
     ]
    }
   ],
   "source": [
    "for i in range(10,0,-1): ##i=10,i>0,i--\n",
    "         print(\"Line No\",i)"
   ]
  },
  {
   "cell_type": "code",
   "execution_count": 151,
   "metadata": {},
   "outputs": [
    {
     "name": "stdout",
     "output_type": "stream",
     "text": [
      "2 X 1=2\n",
      "2 X 2=4\n",
      "2 X 3=6\n",
      "2 X 4=8\n",
      "2 X 5=10\n",
      "2 X 6=12\n",
      "2 X 7=14\n",
      "2 X 8=16\n",
      "2 X 9=18\n",
      "2 X 10=20\n"
     ]
    }
   ],
   "source": [
    "for i in range(1,11):\n",
    "         #print(\"2 X\"+str(i)+\"=\"+str(i*2))\n",
    "         #print(2 \"X\" i \"=\" i*2)\n",
    "         print(f\"2 X {i}={i*2}\")"
   ]
  },
  {
   "cell_type": "code",
   "execution_count": 153,
   "metadata": {},
   "outputs": [
    {
     "name": "stdout",
     "output_type": "stream",
     "text": [
      "2 X 10=20\n",
      "2 X 9=18\n",
      "2 X 8=16\n",
      "2 X 7=14\n",
      "2 X 6=12\n",
      "2 X 5=10\n",
      "2 X 4=8\n",
      "2 X 3=6\n",
      "2 X 2=4\n",
      "2 X 1=2\n"
     ]
    }
   ],
   "source": [
    "for i in range(10,0,-1):\n",
    "         #print(\"2 X\"+str(i)+\"=\"+str(i*2))\n",
    "         #print(2 \"X\" i \"=\" i*2)\n",
    "         print(f\"2 X {i}={i*2}\")"
   ]
  },
  {
   "cell_type": "code",
   "execution_count": 158,
   "metadata": {},
   "outputs": [
    {
     "name": "stdout",
     "output_type": "stream",
     "text": [
      "enter inter for counting2\n",
      "enter length for counting10\n",
      " 2 X 1=2\n",
      " 2 X 2=4\n",
      " 2 X 3=6\n",
      " 2 X 4=8\n",
      " 2 X 5=10\n",
      " 2 X 6=12\n",
      " 2 X 7=14\n",
      " 2 X 8=16\n",
      " 2 X 9=18\n",
      " 2 X 10=20\n"
     ]
    }
   ],
   "source": [
    "user = int(input(\"enter inter for counting\"))\n",
    "leng= int(input(\"enter length for counting\"))\n",
    "for i in range(1,leng+1):\n",
    "         print(f\" {user} X {i}={user*i}\")\n",
    "    \n"
   ]
  },
  {
   "cell_type": "code",
   "execution_count": 1,
   "metadata": {},
   "outputs": [
    {
     "name": "stdout",
     "output_type": "stream",
     "text": [
      "enter No3\n",
      "1 X 1 = 1\n",
      "1 X 2 = 2\n",
      "1 X 3 = 3\n",
      "1 X 4 = 4\n",
      "1 X 5 = 5\n",
      "1 X 6 = 6\n",
      "1 X 7 = 7\n",
      "1 X 8 = 8\n",
      "1 X 9 = 9\n",
      "1 X 10 = 10\n",
      "2 X 1 = 2\n",
      "2 X 2 = 4\n",
      "2 X 3 = 6\n",
      "2 X 4 = 8\n",
      "2 X 5 = 10\n",
      "2 X 6 = 12\n",
      "2 X 7 = 14\n",
      "2 X 8 = 16\n",
      "2 X 9 = 18\n",
      "2 X 10 = 20\n",
      "3 X 1 = 3\n",
      "3 X 2 = 6\n",
      "3 X 3 = 9\n",
      "3 X 4 = 12\n",
      "3 X 5 = 15\n",
      "3 X 6 = 18\n",
      "3 X 7 = 21\n",
      "3 X 8 = 24\n",
      "3 X 9 = 27\n",
      "3 X 10 = 30\n"
     ]
    }
   ],
   "source": [
    "user = int(input(\"enter No\"))\n",
    "for i in range(1,user+1):\n",
    "    for r in range(1,11):\n",
    "        print(f\"{i} X {r} = {i*r}\")\n"
   ]
  },
  {
   "cell_type": "code",
   "execution_count": 2,
   "metadata": {},
   "outputs": [
    {
     "name": "stdout",
     "output_type": "stream",
     "text": [
      "enter No3\n",
      "1 X 1 = 1\t2 X 1 = 2\t3 X 1 = 3\t\n",
      "1 X 2 = 2\t2 X 2 = 4\t3 X 2 = 6\t\n",
      "1 X 3 = 3\t2 X 3 = 6\t3 X 3 = 9\t\n",
      "1 X 4 = 4\t2 X 4 = 8\t3 X 4 = 12\t\n",
      "1 X 5 = 5\t2 X 5 = 10\t3 X 5 = 15\t\n",
      "1 X 6 = 6\t2 X 6 = 12\t3 X 6 = 18\t\n",
      "1 X 7 = 7\t2 X 7 = 14\t3 X 7 = 21\t\n",
      "1 X 8 = 8\t2 X 8 = 16\t3 X 8 = 24\t\n",
      "1 X 9 = 9\t2 X 9 = 18\t3 X 9 = 27\t\n",
      "1 X 10 = 10\t2 X 10 = 20\t3 X 10 = 30\t\n"
     ]
    }
   ],
   "source": [
    "user = int(input(\"enter No\"))\n",
    "for r in range(1,11):\n",
    "    for i in range(1,user+1):\n",
    "         print(f\"{i} X {r} = {i*r}\", end=\"\\t\")\n",
    "    print()"
   ]
  },
  {
   "cell_type": "code",
   "execution_count": null,
   "metadata": {},
   "outputs": [],
   "source": []
  }
 ],
 "metadata": {
  "kernelspec": {
   "display_name": "Python 3",
   "language": "python",
   "name": "python3"
  },
  "language_info": {
   "codemirror_mode": {
    "name": "ipython",
    "version": 3
   },
   "file_extension": ".py",
   "mimetype": "text/x-python",
   "name": "python",
   "nbconvert_exporter": "python",
   "pygments_lexer": "ipython3",
   "version": "3.7.3"
  }
 },
 "nbformat": 4,
 "nbformat_minor": 2
}
