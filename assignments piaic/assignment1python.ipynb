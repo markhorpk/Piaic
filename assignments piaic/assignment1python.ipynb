{
 "cells": [
  {
   "cell_type": "markdown",
   "metadata": {},
   "source": [
    "# Assigment\n",
    "String data types all methods\n",
    "Apply random operators on 20 oprands"
   ]
  },
  {
   "cell_type": "code",
   "execution_count": 9,
   "metadata": {},
   "outputs": [
    {
     "name": "stdout",
     "output_type": "stream",
     "text": [
      "janu ki jaan \n"
     ]
    }
   ],
   "source": [
    "a = \"i love my mom \"\n",
    "print(a.casefold())\n",
    "##casefold use to lowercase letter"
   ]
  },
  {
   "cell_type": "code",
   "execution_count": 16,
   "metadata": {},
   "outputs": [
    {
     "name": "stdout",
     "output_type": "stream",
     "text": [
      "   i love my mom    \n",
      "...i love my mom ...\n"
     ]
    }
   ],
   "source": [
    "a = \"i love my mom \"\n",
    "print(a.center(20))\n",
    "print(a.center(20,\".\"))\n",
    "## allign txt in center \n",
    "#str.center(len,\"char\")"
   ]
  },
  {
   "cell_type": "code",
   "execution_count": 26,
   "metadata": {},
   "outputs": [
    {
     "name": "stdout",
     "output_type": "stream",
     "text": [
      "1\n"
     ]
    }
   ],
   "source": [
    "#count\n",
    "a = \"i love my mom \"\n",
    "print(a.count(\"i\"))\n",
    "##count used for counting charcter in string \n",
    "#string.count(\"character\")"
   ]
  },
  {
   "cell_type": "code",
   "execution_count": 28,
   "metadata": {},
   "outputs": [
    {
     "name": "stdout",
     "output_type": "stream",
     "text": [
      "True\n"
     ]
    }
   ],
   "source": [
    "##isalpha only alphabet checking from a to z\n",
    "a= \"gha\"\n",
    "print(a.isalpha())"
   ]
  },
  {
   "cell_type": "code",
   "execution_count": 41,
   "metadata": {},
   "outputs": [
    {
     "name": "stdout",
     "output_type": "stream",
     "text": [
      "True\n",
      "True\n",
      "True\n"
     ]
    }
   ],
   "source": [
    "##isalnum alphanumeric checking from 1 to 9 and a to z both or 1 \n",
    "a=\"gh12\"\n",
    "print(a.isalnum())\n",
    "b=\"fdg\"\n",
    "print(b.isalnum())\n",
    "z=\"564\"\n",
    "print(z.isalnum())"
   ]
  },
  {
   "cell_type": "code",
   "execution_count": 45,
   "metadata": {},
   "outputs": [
    {
     "name": "stdout",
     "output_type": "stream",
     "text": [
      "True\n",
      "False\n",
      "False\n"
     ]
    }
   ],
   "source": [
    "##is digit checking digit only  0 to 9 \n",
    "a=\"563564\"\n",
    "b=\"sfg\"\n",
    "s=\"sadh6\"\n",
    "print(a.isdigit())\n",
    "print(b.isdigit())\n",
    "print(s.isdigit())"
   ]
  },
  {
   "cell_type": "code",
   "execution_count": 46,
   "metadata": {},
   "outputs": [
    {
     "name": "stdout",
     "output_type": "stream",
     "text": [
      "True\n",
      "False\n",
      "False\n"
     ]
    }
   ],
   "source": [
    "#isnumeric check only numeric 0 to 9\n",
    "a=\"563564\"\n",
    "b=\"sfg\"\n",
    "s=\"sadh6\"\n",
    "print(a.isnumeric())\n",
    "print(b.isnumeric())\n",
    "print(s.isnumeric())\n"
   ]
  },
  {
   "cell_type": "code",
   "execution_count": 48,
   "metadata": {},
   "outputs": [
    {
     "name": "stdout",
     "output_type": "stream",
     "text": [
      "True\n",
      "False\n"
     ]
    }
   ],
   "source": [
    "##islower check if all char is lower only  \n",
    "a = \"i love my mom \"\n",
    "print(a.islower())\n",
    "b = \"i Love my mom \"\n",
    "print(b.islower())"
   ]
  },
  {
   "cell_type": "code",
   "execution_count": 51,
   "metadata": {},
   "outputs": [
    {
     "name": "stdout",
     "output_type": "stream",
     "text": [
      "True\n",
      "False\n"
     ]
    }
   ],
   "source": [
    "##isupper check if all char are lower\n",
    "a = \"LOVE \"\n",
    "print(a.isupper())\n",
    "b = \"i Love my mom \"\n",
    "print(b.isupper())"
   ]
  },
  {
   "cell_type": "code",
   "execution_count": null,
   "metadata": {},
   "outputs": [],
   "source": []
  }
 ],
 "metadata": {
  "kernelspec": {
   "display_name": "Python 3",
   "language": "python",
   "name": "python3"
  },
  "language_info": {
   "codemirror_mode": {
    "name": "ipython",
    "version": 3
   },
   "file_extension": ".py",
   "mimetype": "text/x-python",
   "name": "python",
   "nbconvert_exporter": "python",
   "pygments_lexer": "ipython3",
   "version": "3.7.3"
  }
 },
 "nbformat": 4,
 "nbformat_minor": 2
}
